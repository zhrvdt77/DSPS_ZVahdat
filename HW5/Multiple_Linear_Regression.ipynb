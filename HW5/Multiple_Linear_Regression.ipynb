{
  "cells": [
    {
      "cell_type": "markdown",
      "metadata": {
        "id": "view-in-github",
        "colab_type": "text"
      },
      "source": [
        "<a href=\"https://colab.research.google.com/github/zhrvdt77/DSPS_ZVahdat/blob/main/HW5/Multiple_Linear_Regression.ipynb\" target=\"_parent\"><img src=\"https://colab.research.google.com/assets/colab-badge.svg\" alt=\"Open In Colab\"/></a>"
      ]
    },
    {
      "cell_type": "markdown",
      "metadata": {
        "id": "kBKIrBnIlHg8"
      },
      "source": [
        "# **Multiple Linear Regression**\n",
        "\n",
        "---\n",
        "\n",
        "###Data\n",
        "\n",
        "The data used in this assignment contains a cleaned and curated version of the market real estate valuations collected from Sindian Dist., New Taipei City, Taiwan, by Prof. I-Cheng Yeh, Department of Civil Engineering, Tamkang University, Taiwan.\n",
        "\n",
        "The features in the data are the following:\n",
        "\n",
        "* ```transaction_date```: the transaction date (for example, 2013.250=2013 March, 2013.500=2013 June, etc.)\n",
        "* ```house_age```: the house age (unit: year)\n",
        "* ```distance_nearest_MRT_station```: the distance to the nearest MRT station (unit: meter)\n",
        "* ```convenience_stores```: the number of convenience stores in the living circle on foot (integer)\n",
        "\n",
        "The target is:\n",
        "* ```house_price_unit_area```house price of unit area (10000 New Taiwan Dollar/Ping, where Ping is a local unit, 1 Ping = 3.3 meter squared)\n",
        "\n",
        "---\n",
        "\n",
        "## HW instructions:\n",
        "\n",
        "Similar to what was done in class, your task is to do the following:\n",
        "1.   create a simple regression model that utilizes only one feature: the log10 of ```distance_nearest_MRT_station``` to predict the house price/unit area, and find the model's metrics ($R^2$ and Adjusted-$R^2$), as well as the the coeffient (slope) of the line.\n",
        "\n",
        "2.   create a multiple regression model that utilizes all features in the dataset to predict the house price/unit area, and find the model's metrics ($R^2$ and Adjusted-$R^2$), as well as the the coeffient for each variable.\n",
        "\n",
        "--"
      ]
    },
    {
      "cell_type": "code",
      "execution_count": 31,
      "metadata": {
        "id": "ATylBaqD5ljg"
      },
      "outputs": [],
      "source": [
        "# -- import libraries here\n",
        "import pandas as pd\n",
        "import numpy as np\n",
        "from sklearn.preprocessing import StandardScaler\n",
        "import statsmodels.api as sm\n",
        "import matplotlib.pyplot as plt\n"
      ]
    },
    {
      "cell_type": "markdown",
      "metadata": {
        "id": "S4YEe0nUgWG1"
      },
      "source": [
        "Read the data file from the class repo which can be found in the folder \"data\" and is called \"Real_estate.csv\""
      ]
    },
    {
      "cell_type": "code",
      "execution_count": 4,
      "metadata": {
        "id": "7vu7tgc3CrxL"
      },
      "outputs": [],
      "source": [
        "# -- your code here\n",
        "df=pd.read_csv(\"https://raw.githubusercontent.com/fedhere/FDSFE_FBianco/main/data/Real_estate.csv\")"
      ]
    },
    {
      "cell_type": "code",
      "execution_count": 32,
      "metadata": {
        "colab": {
          "base_uri": "https://localhost:8080/",
          "height": 419
        },
        "id": "Pq_ienbZdIo8",
        "outputId": "5ae80319-1461-4cc3-f772-1fbb1b8ec80e"
      },
      "outputs": [
        {
          "output_type": "execute_result",
          "data": {
            "text/plain": [
              "     transaction_date  house_age  distance_nearest_MRT_station  \\\n",
              "0            2012.917       32.0                      84.87882   \n",
              "1            2012.917       19.5                     306.59470   \n",
              "2            2013.583       13.3                     561.98450   \n",
              "3            2013.500       13.3                     561.98450   \n",
              "4            2012.833        5.0                     390.56840   \n",
              "..                ...        ...                           ...   \n",
              "409          2013.000       13.7                    4082.01500   \n",
              "410          2012.667        5.6                      90.45606   \n",
              "411          2013.250       18.8                     390.96960   \n",
              "412          2013.000        8.1                     104.81010   \n",
              "413          2013.500        6.5                      90.45606   \n",
              "\n",
              "     convenience_stores  house_price_unit_area  log 10 distance  \n",
              "0                    10                   37.9         1.928799  \n",
              "1                     9                   42.2         2.486565  \n",
              "2                     5                   47.3         2.749724  \n",
              "3                     5                   54.8         2.749724  \n",
              "4                     5                   43.1         2.591697  \n",
              "..                  ...                    ...              ...  \n",
              "409                   0                   15.4         3.610875  \n",
              "410                   9                   50.0         1.956438  \n",
              "411                   7                   40.6         2.592143  \n",
              "412                   5                   52.5         2.020403  \n",
              "413                   9                   63.9         1.956438  \n",
              "\n",
              "[414 rows x 6 columns]"
            ],
            "text/html": [
              "\n",
              "  <div id=\"df-6db0b94f-71b1-4a28-9c1f-5d2403e0a540\" class=\"colab-df-container\">\n",
              "    <div>\n",
              "<style scoped>\n",
              "    .dataframe tbody tr th:only-of-type {\n",
              "        vertical-align: middle;\n",
              "    }\n",
              "\n",
              "    .dataframe tbody tr th {\n",
              "        vertical-align: top;\n",
              "    }\n",
              "\n",
              "    .dataframe thead th {\n",
              "        text-align: right;\n",
              "    }\n",
              "</style>\n",
              "<table border=\"1\" class=\"dataframe\">\n",
              "  <thead>\n",
              "    <tr style=\"text-align: right;\">\n",
              "      <th></th>\n",
              "      <th>transaction_date</th>\n",
              "      <th>house_age</th>\n",
              "      <th>distance_nearest_MRT_station</th>\n",
              "      <th>convenience_stores</th>\n",
              "      <th>house_price_unit_area</th>\n",
              "      <th>log 10 distance</th>\n",
              "    </tr>\n",
              "  </thead>\n",
              "  <tbody>\n",
              "    <tr>\n",
              "      <th>0</th>\n",
              "      <td>2012.917</td>\n",
              "      <td>32.0</td>\n",
              "      <td>84.87882</td>\n",
              "      <td>10</td>\n",
              "      <td>37.9</td>\n",
              "      <td>1.928799</td>\n",
              "    </tr>\n",
              "    <tr>\n",
              "      <th>1</th>\n",
              "      <td>2012.917</td>\n",
              "      <td>19.5</td>\n",
              "      <td>306.59470</td>\n",
              "      <td>9</td>\n",
              "      <td>42.2</td>\n",
              "      <td>2.486565</td>\n",
              "    </tr>\n",
              "    <tr>\n",
              "      <th>2</th>\n",
              "      <td>2013.583</td>\n",
              "      <td>13.3</td>\n",
              "      <td>561.98450</td>\n",
              "      <td>5</td>\n",
              "      <td>47.3</td>\n",
              "      <td>2.749724</td>\n",
              "    </tr>\n",
              "    <tr>\n",
              "      <th>3</th>\n",
              "      <td>2013.500</td>\n",
              "      <td>13.3</td>\n",
              "      <td>561.98450</td>\n",
              "      <td>5</td>\n",
              "      <td>54.8</td>\n",
              "      <td>2.749724</td>\n",
              "    </tr>\n",
              "    <tr>\n",
              "      <th>4</th>\n",
              "      <td>2012.833</td>\n",
              "      <td>5.0</td>\n",
              "      <td>390.56840</td>\n",
              "      <td>5</td>\n",
              "      <td>43.1</td>\n",
              "      <td>2.591697</td>\n",
              "    </tr>\n",
              "    <tr>\n",
              "      <th>...</th>\n",
              "      <td>...</td>\n",
              "      <td>...</td>\n",
              "      <td>...</td>\n",
              "      <td>...</td>\n",
              "      <td>...</td>\n",
              "      <td>...</td>\n",
              "    </tr>\n",
              "    <tr>\n",
              "      <th>409</th>\n",
              "      <td>2013.000</td>\n",
              "      <td>13.7</td>\n",
              "      <td>4082.01500</td>\n",
              "      <td>0</td>\n",
              "      <td>15.4</td>\n",
              "      <td>3.610875</td>\n",
              "    </tr>\n",
              "    <tr>\n",
              "      <th>410</th>\n",
              "      <td>2012.667</td>\n",
              "      <td>5.6</td>\n",
              "      <td>90.45606</td>\n",
              "      <td>9</td>\n",
              "      <td>50.0</td>\n",
              "      <td>1.956438</td>\n",
              "    </tr>\n",
              "    <tr>\n",
              "      <th>411</th>\n",
              "      <td>2013.250</td>\n",
              "      <td>18.8</td>\n",
              "      <td>390.96960</td>\n",
              "      <td>7</td>\n",
              "      <td>40.6</td>\n",
              "      <td>2.592143</td>\n",
              "    </tr>\n",
              "    <tr>\n",
              "      <th>412</th>\n",
              "      <td>2013.000</td>\n",
              "      <td>8.1</td>\n",
              "      <td>104.81010</td>\n",
              "      <td>5</td>\n",
              "      <td>52.5</td>\n",
              "      <td>2.020403</td>\n",
              "    </tr>\n",
              "    <tr>\n",
              "      <th>413</th>\n",
              "      <td>2013.500</td>\n",
              "      <td>6.5</td>\n",
              "      <td>90.45606</td>\n",
              "      <td>9</td>\n",
              "      <td>63.9</td>\n",
              "      <td>1.956438</td>\n",
              "    </tr>\n",
              "  </tbody>\n",
              "</table>\n",
              "<p>414 rows × 6 columns</p>\n",
              "</div>\n",
              "    <div class=\"colab-df-buttons\">\n",
              "\n",
              "  <div class=\"colab-df-container\">\n",
              "    <button class=\"colab-df-convert\" onclick=\"convertToInteractive('df-6db0b94f-71b1-4a28-9c1f-5d2403e0a540')\"\n",
              "            title=\"Convert this dataframe to an interactive table.\"\n",
              "            style=\"display:none;\">\n",
              "\n",
              "  <svg xmlns=\"http://www.w3.org/2000/svg\" height=\"24px\" viewBox=\"0 -960 960 960\">\n",
              "    <path d=\"M120-120v-720h720v720H120Zm60-500h600v-160H180v160Zm220 220h160v-160H400v160Zm0 220h160v-160H400v160ZM180-400h160v-160H180v160Zm440 0h160v-160H620v160ZM180-180h160v-160H180v160Zm440 0h160v-160H620v160Z\"/>\n",
              "  </svg>\n",
              "    </button>\n",
              "\n",
              "  <style>\n",
              "    .colab-df-container {\n",
              "      display:flex;\n",
              "      gap: 12px;\n",
              "    }\n",
              "\n",
              "    .colab-df-convert {\n",
              "      background-color: #E8F0FE;\n",
              "      border: none;\n",
              "      border-radius: 50%;\n",
              "      cursor: pointer;\n",
              "      display: none;\n",
              "      fill: #1967D2;\n",
              "      height: 32px;\n",
              "      padding: 0 0 0 0;\n",
              "      width: 32px;\n",
              "    }\n",
              "\n",
              "    .colab-df-convert:hover {\n",
              "      background-color: #E2EBFA;\n",
              "      box-shadow: 0px 1px 2px rgba(60, 64, 67, 0.3), 0px 1px 3px 1px rgba(60, 64, 67, 0.15);\n",
              "      fill: #174EA6;\n",
              "    }\n",
              "\n",
              "    .colab-df-buttons div {\n",
              "      margin-bottom: 4px;\n",
              "    }\n",
              "\n",
              "    [theme=dark] .colab-df-convert {\n",
              "      background-color: #3B4455;\n",
              "      fill: #D2E3FC;\n",
              "    }\n",
              "\n",
              "    [theme=dark] .colab-df-convert:hover {\n",
              "      background-color: #434B5C;\n",
              "      box-shadow: 0px 1px 3px 1px rgba(0, 0, 0, 0.15);\n",
              "      filter: drop-shadow(0px 1px 2px rgba(0, 0, 0, 0.3));\n",
              "      fill: #FFFFFF;\n",
              "    }\n",
              "  </style>\n",
              "\n",
              "    <script>\n",
              "      const buttonEl =\n",
              "        document.querySelector('#df-6db0b94f-71b1-4a28-9c1f-5d2403e0a540 button.colab-df-convert');\n",
              "      buttonEl.style.display =\n",
              "        google.colab.kernel.accessAllowed ? 'block' : 'none';\n",
              "\n",
              "      async function convertToInteractive(key) {\n",
              "        const element = document.querySelector('#df-6db0b94f-71b1-4a28-9c1f-5d2403e0a540');\n",
              "        const dataTable =\n",
              "          await google.colab.kernel.invokeFunction('convertToInteractive',\n",
              "                                                    [key], {});\n",
              "        if (!dataTable) return;\n",
              "\n",
              "        const docLinkHtml = 'Like what you see? Visit the ' +\n",
              "          '<a target=\"_blank\" href=https://colab.research.google.com/notebooks/data_table.ipynb>data table notebook</a>'\n",
              "          + ' to learn more about interactive tables.';\n",
              "        element.innerHTML = '';\n",
              "        dataTable['output_type'] = 'display_data';\n",
              "        await google.colab.output.renderOutput(dataTable, element);\n",
              "        const docLink = document.createElement('div');\n",
              "        docLink.innerHTML = docLinkHtml;\n",
              "        element.appendChild(docLink);\n",
              "      }\n",
              "    </script>\n",
              "  </div>\n",
              "\n",
              "\n",
              "<div id=\"df-3c4093d0-cf11-4fd3-aaaa-c40eb63c5b67\">\n",
              "  <button class=\"colab-df-quickchart\" onclick=\"quickchart('df-3c4093d0-cf11-4fd3-aaaa-c40eb63c5b67')\"\n",
              "            title=\"Suggest charts.\"\n",
              "            style=\"display:none;\">\n",
              "\n",
              "<svg xmlns=\"http://www.w3.org/2000/svg\" height=\"24px\"viewBox=\"0 0 24 24\"\n",
              "     width=\"24px\">\n",
              "    <g>\n",
              "        <path d=\"M19 3H5c-1.1 0-2 .9-2 2v14c0 1.1.9 2 2 2h14c1.1 0 2-.9 2-2V5c0-1.1-.9-2-2-2zM9 17H7v-7h2v7zm4 0h-2V7h2v10zm4 0h-2v-4h2v4z\"/>\n",
              "    </g>\n",
              "</svg>\n",
              "  </button>\n",
              "\n",
              "<style>\n",
              "  .colab-df-quickchart {\n",
              "      --bg-color: #E8F0FE;\n",
              "      --fill-color: #1967D2;\n",
              "      --hover-bg-color: #E2EBFA;\n",
              "      --hover-fill-color: #174EA6;\n",
              "      --disabled-fill-color: #AAA;\n",
              "      --disabled-bg-color: #DDD;\n",
              "  }\n",
              "\n",
              "  [theme=dark] .colab-df-quickchart {\n",
              "      --bg-color: #3B4455;\n",
              "      --fill-color: #D2E3FC;\n",
              "      --hover-bg-color: #434B5C;\n",
              "      --hover-fill-color: #FFFFFF;\n",
              "      --disabled-bg-color: #3B4455;\n",
              "      --disabled-fill-color: #666;\n",
              "  }\n",
              "\n",
              "  .colab-df-quickchart {\n",
              "    background-color: var(--bg-color);\n",
              "    border: none;\n",
              "    border-radius: 50%;\n",
              "    cursor: pointer;\n",
              "    display: none;\n",
              "    fill: var(--fill-color);\n",
              "    height: 32px;\n",
              "    padding: 0;\n",
              "    width: 32px;\n",
              "  }\n",
              "\n",
              "  .colab-df-quickchart:hover {\n",
              "    background-color: var(--hover-bg-color);\n",
              "    box-shadow: 0 1px 2px rgba(60, 64, 67, 0.3), 0 1px 3px 1px rgba(60, 64, 67, 0.15);\n",
              "    fill: var(--button-hover-fill-color);\n",
              "  }\n",
              "\n",
              "  .colab-df-quickchart-complete:disabled,\n",
              "  .colab-df-quickchart-complete:disabled:hover {\n",
              "    background-color: var(--disabled-bg-color);\n",
              "    fill: var(--disabled-fill-color);\n",
              "    box-shadow: none;\n",
              "  }\n",
              "\n",
              "  .colab-df-spinner {\n",
              "    border: 2px solid var(--fill-color);\n",
              "    border-color: transparent;\n",
              "    border-bottom-color: var(--fill-color);\n",
              "    animation:\n",
              "      spin 1s steps(1) infinite;\n",
              "  }\n",
              "\n",
              "  @keyframes spin {\n",
              "    0% {\n",
              "      border-color: transparent;\n",
              "      border-bottom-color: var(--fill-color);\n",
              "      border-left-color: var(--fill-color);\n",
              "    }\n",
              "    20% {\n",
              "      border-color: transparent;\n",
              "      border-left-color: var(--fill-color);\n",
              "      border-top-color: var(--fill-color);\n",
              "    }\n",
              "    30% {\n",
              "      border-color: transparent;\n",
              "      border-left-color: var(--fill-color);\n",
              "      border-top-color: var(--fill-color);\n",
              "      border-right-color: var(--fill-color);\n",
              "    }\n",
              "    40% {\n",
              "      border-color: transparent;\n",
              "      border-right-color: var(--fill-color);\n",
              "      border-top-color: var(--fill-color);\n",
              "    }\n",
              "    60% {\n",
              "      border-color: transparent;\n",
              "      border-right-color: var(--fill-color);\n",
              "    }\n",
              "    80% {\n",
              "      border-color: transparent;\n",
              "      border-right-color: var(--fill-color);\n",
              "      border-bottom-color: var(--fill-color);\n",
              "    }\n",
              "    90% {\n",
              "      border-color: transparent;\n",
              "      border-bottom-color: var(--fill-color);\n",
              "    }\n",
              "  }\n",
              "</style>\n",
              "\n",
              "  <script>\n",
              "    async function quickchart(key) {\n",
              "      const quickchartButtonEl =\n",
              "        document.querySelector('#' + key + ' button');\n",
              "      quickchartButtonEl.disabled = true;  // To prevent multiple clicks.\n",
              "      quickchartButtonEl.classList.add('colab-df-spinner');\n",
              "      try {\n",
              "        const charts = await google.colab.kernel.invokeFunction(\n",
              "            'suggestCharts', [key], {});\n",
              "      } catch (error) {\n",
              "        console.error('Error during call to suggestCharts:', error);\n",
              "      }\n",
              "      quickchartButtonEl.classList.remove('colab-df-spinner');\n",
              "      quickchartButtonEl.classList.add('colab-df-quickchart-complete');\n",
              "    }\n",
              "    (() => {\n",
              "      let quickchartButtonEl =\n",
              "        document.querySelector('#df-3c4093d0-cf11-4fd3-aaaa-c40eb63c5b67 button');\n",
              "      quickchartButtonEl.style.display =\n",
              "        google.colab.kernel.accessAllowed ? 'block' : 'none';\n",
              "    })();\n",
              "  </script>\n",
              "</div>\n",
              "    </div>\n",
              "  </div>\n"
            ]
          },
          "metadata": {},
          "execution_count": 32
        }
      ],
      "source": [
        "df"
      ]
    },
    {
      "cell_type": "markdown",
      "metadata": {
        "id": "tP10cnl7UBJg"
      },
      "source": [
        "## Task 1: simple linear regression\n",
        "\n",
        "create a simple regression model that utilizes only one feature: the log10 of ```distance_nearest_MRT_station``` to predict the house price/unit area, and find the model's metrics ($R^2$ and Adjusted-$R^2$), as well as the the coeffient (slope) of the line.\n",
        "\n",
        "---\n"
      ]
    },
    {
      "cell_type": "markdown",
      "metadata": {
        "id": "YGx9scRQU8C0"
      },
      "source": [
        "Calculate the log10 of the ```distance_nearest_MRT_station``` column and add it as a new column to the data frame"
      ]
    },
    {
      "cell_type": "code",
      "execution_count": 6,
      "metadata": {
        "id": "p4cNG_YBCr0M"
      },
      "outputs": [],
      "source": [
        "# -- your code here\n",
        "df[\"log 10 distance\"]=np.log10(df[\"distance_nearest_MRT_station\"])"
      ]
    },
    {
      "cell_type": "markdown",
      "metadata": {
        "id": "RK2zIVwAVSlx"
      },
      "source": [
        "Standardize your feature and target data (setting their mean to 0 and standard deviation to 1)"
      ]
    },
    {
      "cell_type": "code",
      "execution_count": 7,
      "metadata": {
        "id": "rryGybFQFDja"
      },
      "outputs": [],
      "source": [
        "# -- your code here\n",
        "df1=pd.DataFrame()"
      ]
    },
    {
      "cell_type": "code",
      "execution_count": 8,
      "metadata": {
        "id": "BkqJ8e2LhQy1"
      },
      "outputs": [],
      "source": [
        "df1[\"log_10_distance_standard\"]=(df[\"log 10 distance\"]-np.mean(df[\"log 10 distance\"]))/np.std(df[\"log 10 distance\"])"
      ]
    },
    {
      "cell_type": "code",
      "execution_count": 9,
      "metadata": {
        "id": "Tm09__6AjQXm"
      },
      "outputs": [],
      "source": [
        "df1[\"house_price_unit_area_standard\"]=(df[\"house_price_unit_area\"]-np.mean(df[\"house_price_unit_area\"]))/np.std(df[\"house_price_unit_area\"])"
      ]
    },
    {
      "cell_type": "code",
      "execution_count": 10,
      "metadata": {
        "colab": {
          "base_uri": "https://localhost:8080/"
        },
        "id": "PH_kEFrcjkmY",
        "outputId": "c0149ccf-2a0d-4116-eb29-f0880289a6bb"
      },
      "outputs": [
        {
          "output_type": "execute_result",
          "data": {
            "text/plain": [
              "Index(['transaction_date', 'house_age', 'distance_nearest_MRT_station',\n",
              "       'convenience_stores', 'house_price_unit_area', 'log 10 distance'],\n",
              "      dtype='object')"
            ]
          },
          "metadata": {},
          "execution_count": 10
        }
      ],
      "source": [
        "df.columns"
      ]
    },
    {
      "cell_type": "code",
      "execution_count": 11,
      "metadata": {
        "colab": {
          "base_uri": "https://localhost:8080/"
        },
        "id": "ZmQh-IndjLDc",
        "outputId": "f5891de9-518e-45a8-d8f0-0b46e115d943"
      },
      "outputs": [
        {
          "output_type": "execute_result",
          "data": {
            "text/plain": [
              "2.7758851190549194"
            ]
          },
          "metadata": {},
          "execution_count": 11
        }
      ],
      "source": [
        "np.mean(df[\"log 10 distance\"])"
      ]
    },
    {
      "cell_type": "markdown",
      "metadata": {
        "id": "RYDBgtWMVlSg"
      },
      "source": [
        "Using the code library of your choice, fit a linear regression model to the data"
      ]
    },
    {
      "cell_type": "code",
      "execution_count": 12,
      "metadata": {
        "colab": {
          "base_uri": "https://localhost:8080/",
          "height": 444
        },
        "id": "p_x1r6JYVksb",
        "outputId": "0e60a1eb-dc12-4ac1-92ab-b7ea6a3f08e0"
      },
      "outputs": [
        {
          "output_type": "execute_result",
          "data": {
            "text/plain": [
              "<class 'statsmodels.iolib.summary.Summary'>\n",
              "\"\"\"\n",
              "                                  OLS Regression Results                                  \n",
              "==========================================================================================\n",
              "Dep. Variable:     house_price_unit_area_standard   R-squared:                       0.539\n",
              "Model:                                        OLS   Adj. R-squared:                  0.538\n",
              "Method:                             Least Squares   F-statistic:                     482.2\n",
              "Date:                            Tue, 24 Oct 2023   Prob (F-statistic):           2.52e-71\n",
              "Time:                                    19:02:57   Log-Likelihood:                -427.03\n",
              "No. Observations:                             414   AIC:                             858.1\n",
              "Df Residuals:                                 412   BIC:                             866.1\n",
              "Df Model:                                       1                                         \n",
              "Covariance Type:                        nonrobust                                         \n",
              "============================================================================================\n",
              "                               coef    std err          t      P>|t|      [0.025      0.975]\n",
              "--------------------------------------------------------------------------------------------\n",
              "const                      1.24e-16      0.033   3.71e-15      1.000      -0.066       0.066\n",
              "log_10_distance_standard    -0.7343      0.033    -21.959      0.000      -0.800      -0.669\n",
              "==============================================================================\n",
              "Omnibus:                      178.772   Durbin-Watson:                   2.109\n",
              "Prob(Omnibus):                  0.000   Jarque-Bera (JB):             1764.720\n",
              "Skew:                           1.566   Prob(JB):                         0.00\n",
              "Kurtosis:                      12.617   Cond. No.                         1.00\n",
              "==============================================================================\n",
              "\n",
              "Notes:\n",
              "[1] Standard Errors assume that the covariance matrix of the errors is correctly specified.\n",
              "\"\"\""
            ],
            "text/html": [
              "<table class=\"simpletable\">\n",
              "<caption>OLS Regression Results</caption>\n",
              "<tr>\n",
              "  <th>Dep. Variable:</th>    <td>house_price_unit_area_standard</td> <th>  R-squared:         </th> <td>   0.539</td>\n",
              "</tr>\n",
              "<tr>\n",
              "  <th>Model:</th>                          <td>OLS</td>              <th>  Adj. R-squared:    </th> <td>   0.538</td>\n",
              "</tr>\n",
              "<tr>\n",
              "  <th>Method:</th>                    <td>Least Squares</td>         <th>  F-statistic:       </th> <td>   482.2</td>\n",
              "</tr>\n",
              "<tr>\n",
              "  <th>Date:</th>                    <td>Tue, 24 Oct 2023</td>        <th>  Prob (F-statistic):</th> <td>2.52e-71</td>\n",
              "</tr>\n",
              "<tr>\n",
              "  <th>Time:</th>                        <td>19:02:57</td>            <th>  Log-Likelihood:    </th> <td> -427.03</td>\n",
              "</tr>\n",
              "<tr>\n",
              "  <th>No. Observations:</th>             <td>   414</td>             <th>  AIC:               </th> <td>   858.1</td>\n",
              "</tr>\n",
              "<tr>\n",
              "  <th>Df Residuals:</th>                 <td>   412</td>             <th>  BIC:               </th> <td>   866.1</td>\n",
              "</tr>\n",
              "<tr>\n",
              "  <th>Df Model:</th>                     <td>     1</td>             <th>                     </th>     <td> </td>   \n",
              "</tr>\n",
              "<tr>\n",
              "  <th>Covariance Type:</th>             <td>nonrobust</td>           <th>                     </th>     <td> </td>   \n",
              "</tr>\n",
              "</table>\n",
              "<table class=\"simpletable\">\n",
              "<tr>\n",
              "              <td></td>                <th>coef</th>     <th>std err</th>      <th>t</th>      <th>P>|t|</th>  <th>[0.025</th>    <th>0.975]</th>  \n",
              "</tr>\n",
              "<tr>\n",
              "  <th>const</th>                    <td>  1.24e-16</td> <td>    0.033</td> <td> 3.71e-15</td> <td> 1.000</td> <td>   -0.066</td> <td>    0.066</td>\n",
              "</tr>\n",
              "<tr>\n",
              "  <th>log_10_distance_standard</th> <td>   -0.7343</td> <td>    0.033</td> <td>  -21.959</td> <td> 0.000</td> <td>   -0.800</td> <td>   -0.669</td>\n",
              "</tr>\n",
              "</table>\n",
              "<table class=\"simpletable\">\n",
              "<tr>\n",
              "  <th>Omnibus:</th>       <td>178.772</td> <th>  Durbin-Watson:     </th> <td>   2.109</td>\n",
              "</tr>\n",
              "<tr>\n",
              "  <th>Prob(Omnibus):</th> <td> 0.000</td>  <th>  Jarque-Bera (JB):  </th> <td>1764.720</td>\n",
              "</tr>\n",
              "<tr>\n",
              "  <th>Skew:</th>          <td> 1.566</td>  <th>  Prob(JB):          </th> <td>    0.00</td>\n",
              "</tr>\n",
              "<tr>\n",
              "  <th>Kurtosis:</th>      <td>12.617</td>  <th>  Cond. No.          </th> <td>    1.00</td>\n",
              "</tr>\n",
              "</table><br/><br/>Notes:<br/>[1] Standard Errors assume that the covariance matrix of the errors is correctly specified."
            ],
            "text/latex": "\\begin{center}\n\\begin{tabular}{lclc}\n\\toprule\n\\textbf{Dep. Variable:}              & house\\_price\\_unit\\_area\\_standard & \\textbf{  R-squared:         } &     0.539   \\\\\n\\textbf{Model:}                      &                OLS                 & \\textbf{  Adj. R-squared:    } &     0.538   \\\\\n\\textbf{Method:}                     &           Least Squares            & \\textbf{  F-statistic:       } &     482.2   \\\\\n\\textbf{Date:}                       &          Tue, 24 Oct 2023          & \\textbf{  Prob (F-statistic):} &  2.52e-71   \\\\\n\\textbf{Time:}                       &              19:02:57              & \\textbf{  Log-Likelihood:    } &   -427.03   \\\\\n\\textbf{No. Observations:}           &                  414               & \\textbf{  AIC:               } &     858.1   \\\\\n\\textbf{Df Residuals:}               &                  412               & \\textbf{  BIC:               } &     866.1   \\\\\n\\textbf{Df Model:}                   &                    1               & \\textbf{                     } &             \\\\\n\\textbf{Covariance Type:}            &             nonrobust              & \\textbf{                     } &             \\\\\n\\bottomrule\n\\end{tabular}\n\\begin{tabular}{lcccccc}\n                                     & \\textbf{coef} & \\textbf{std err} & \\textbf{t} & \\textbf{P$> |$t$|$} & \\textbf{[0.025} & \\textbf{0.975]}  \\\\\n\\midrule\n\\textbf{const}                       &     1.24e-16  &        0.033     &  3.71e-15  &         1.000        &       -0.066    &        0.066     \\\\\n\\textbf{log\\_10\\_distance\\_standard} &      -0.7343  &        0.033     &   -21.959  &         0.000        &       -0.800    &       -0.669     \\\\\n\\bottomrule\n\\end{tabular}\n\\begin{tabular}{lclc}\n\\textbf{Omnibus:}       & 178.772 & \\textbf{  Durbin-Watson:     } &    2.109  \\\\\n\\textbf{Prob(Omnibus):} &   0.000 & \\textbf{  Jarque-Bera (JB):  } & 1764.720  \\\\\n\\textbf{Skew:}          &   1.566 & \\textbf{  Prob(JB):          } &     0.00  \\\\\n\\textbf{Kurtosis:}      &  12.617 & \\textbf{  Cond. No.          } &     1.00  \\\\\n\\bottomrule\n\\end{tabular}\n%\\caption{OLS Regression Results}\n\\end{center}\n\nNotes: \\newline\n [1] Standard Errors assume that the covariance matrix of the errors is correctly specified."
          },
          "metadata": {},
          "execution_count": 12
        }
      ],
      "source": [
        "# -- your code here\n",
        "X=df1[\"log_10_distance_standard\"]\n",
        "Y=df1[\"house_price_unit_area_standard\"]\n",
        "X=sm.add_constant(X)\n",
        "model=sm.OLS(Y,X)\n",
        "results=model.fit()\n",
        "results.summary()\n"
      ]
    },
    {
      "cell_type": "markdown",
      "metadata": {
        "id": "k_hktZmTVs6m"
      },
      "source": [
        "Print both the $R^2$ and Adjusted-$R^2$ of this model\n",
        "\n",
        "(+1 bonus point for using the `.format()` method in `print` to show the two values and round them to 3 decimal places)"
      ]
    },
    {
      "cell_type": "code",
      "execution_count": 13,
      "metadata": {
        "colab": {
          "base_uri": "https://localhost:8080/"
        },
        "id": "WIWsXaPKVdTr",
        "outputId": "b6e54623-419a-4b29-ca31-06ce395d1037"
      },
      "outputs": [
        {
          "output_type": "stream",
          "name": "stdout",
          "text": [
            "r2= 0.539\n",
            "r2_adjusted= 0.538\n"
          ]
        }
      ],
      "source": [
        "# -- your code here\n",
        "print('r2=',0.539)\n",
        "print('r2_adjusted=',0.538)\n"
      ]
    },
    {
      "cell_type": "markdown",
      "metadata": {
        "id": "6spcmbZ-XQhs"
      },
      "source": [
        "Print the coefficient (slope) of the line"
      ]
    },
    {
      "cell_type": "code",
      "execution_count": 14,
      "metadata": {
        "colab": {
          "base_uri": "https://localhost:8080/"
        },
        "id": "aCKHU3o-VdjC",
        "outputId": "8d1a2b7b-c383-446f-d376-7c1093122d20"
      },
      "outputs": [
        {
          "output_type": "stream",
          "name": "stdout",
          "text": [
            "coefficient= -0.734\n"
          ]
        }
      ],
      "source": [
        "# -- your code here\n",
        "print('coefficient=',-0.734)"
      ]
    },
    {
      "cell_type": "markdown",
      "metadata": {
        "id": "EYs3arrqePbn"
      },
      "source": [
        "From looking at the coefficient, what can you say about the relationship between the feature (the distance to the nearest MRT station) and the target (the house price/unit area)?"
      ]
    },
    {
      "cell_type": "markdown",
      "metadata": {
        "id": "gBsZRNV3ePV5"
      },
      "source": [
        "The more expensive the price is, the closest to the MRT station.*your answer here*"
      ]
    },
    {
      "cell_type": "markdown",
      "metadata": {
        "id": "MHqiI52lXvSr"
      },
      "source": [
        "Plot the actual vs. model predicted values for the house price/unit area for all log10(distance to MRT station) values in the data"
      ]
    },
    {
      "cell_type": "code",
      "execution_count": 15,
      "metadata": {
        "colab": {
          "base_uri": "https://localhost:8080/",
          "height": 466
        },
        "id": "VGAQHMZAm2fb",
        "outputId": "9eeb167c-c240-4ea6-d691-8f54b850a5f2"
      },
      "outputs": [
        {
          "output_type": "execute_result",
          "data": {
            "text/plain": [
              "Text(0, 0.5, 'log 10 distance standard')"
            ]
          },
          "metadata": {},
          "execution_count": 15
        },
        {
          "output_type": "display_data",
          "data": {
            "text/plain": [
              "<Figure size 640x480 with 1 Axes>"
            ],
            "image/png": "[encoded data removed]"
          },
          "metadata": {}
        }
      ],
      "source": [
        "plt.scatter(df1[\"house_price_unit_area_standard\"],df1[\"log_10_distance_standard\"])\n",
        "plt.xlabel(\"house price unit area\")\n",
        "plt.ylabel(\"log 10 distance standard\")"
      ]
    },
    {
      "cell_type": "code",
      "execution_count": 16,
      "metadata": {
        "id": "fsnoNfbJstDh"
      },
      "outputs": [],
      "source": [
        "df1[\"predicted_house_price_unit_area_standard\"] = results.predict(X)"
      ]
    },
    {
      "cell_type": "code",
      "execution_count": 17,
      "metadata": {
        "colab": {
          "base_uri": "https://localhost:8080/",
          "height": 466
        },
        "id": "9Gblf2UCVdo4",
        "outputId": "e2156f2a-2348-499a-bed3-44a811b28799"
      },
      "outputs": [
        {
          "output_type": "execute_result",
          "data": {
            "text/plain": [
              "(-1.8, 2.8)"
            ]
          },
          "metadata": {},
          "execution_count": 17
        },
        {
          "output_type": "display_data",
          "data": {
            "text/plain": [
              "<Figure size 640x480 with 1 Axes>"
            ],
            "image/png": "[encoded data removed]"
          },
          "metadata": {}
        }
      ],
      "source": [
        "# -- your code here\n",
        "plt.scatter(df1[\"house_price_unit_area_standard\"],df1[\"predicted_house_price_unit_area_standard\"])\n",
        "plt.xlabel(\"house price unit area\")\n",
        "plt.ylabel(\"predicted price\")\n",
        "plt.xlim(-2.5,6)\n",
        "plt.ylim(-1.8,2.8)"
      ]
    },
    {
      "cell_type": "markdown",
      "metadata": {
        "id": "iFAO4QfCbgGN"
      },
      "source": [
        "## Task 2: multiple linear regression (all variables)\n",
        "\n",
        "create a multiple regression model that utilizes all features to predict the house price/unit area, and find the model's metrics ($R^2$ and Adjusted-$R^2$), as well as the the coeffient for each variable.\n",
        "\n",
        "---\n",
        "\n",
        "a univariate linear regression model looks like $y = a_0 + a_1 x$\n",
        "\n",
        "a multivariate linear regression model with 3 exogenous variable looks like $y = a_0 + a_1 x_1 + a_2 x_2 + a_3 x_3$\n",
        "\n",
        "The easiest way to implement it is to use `statsmodels.formula.api` which allows to write out the formula you want to use for the regression in more or less plain English. We did it in the linear regression notebook https://github.com/fedhere/FDSFE_FBianco/blob/main/HW5/linear_regression_in_detail.ipynb\n",
        "\n",
        "The univariate linear model we built in that notebook was\n",
        "\n",
        "```\n",
        "import statsmodels.formula.api as smf\n",
        "     \n",
        "mod = smf.ols(formula='wspeed ~ population', data=df)\n",
        "res = mod.fit()\n",
        "res.summary()\n",
        "```\n",
        "\n",
        "y = ax + b => `formula='wspeed ~ population'`\n",
        "\n",
        "The intercept (b) is implied in the use of `~`\n",
        "`x` in this case was population and `y` wspeed\n",
        "\n",
        "Your formula will look like\n",
        "`formula='y ~ x1 + x2 + x3 + x4'` with the approproate feature names"
      ]
    },
    {
      "cell_type": "markdown",
      "metadata": {
        "id": "PT2-ClOFcXjQ"
      },
      "source": [
        "Make sure all your features and target columns are standardized, and that you are using all the features in the data frame (also make sure to use ```log10(distance_nearest_MRT_station)``` rather than ```distance_nearest_MRT_station``` as a feature)"
      ]
    },
    {
      "cell_type": "code",
      "execution_count": 18,
      "metadata": {
        "id": "qc0keSNZZ4Zu",
        "colab": {
          "base_uri": "https://localhost:8080/",
          "height": 419
        },
        "outputId": "09309d4a-b0bf-4450-cb92-5c307a9f7b30"
      },
      "outputs": [
        {
          "output_type": "error",
          "ename": "PatsyError",
          "evalue": "ignored",
          "traceback": [
            "\u001b[0;31m---------------------------------------------------------------------------\u001b[0m",
            "\u001b[0;31mNameError\u001b[0m                                 Traceback (most recent call last)",
            "\u001b[0;32m/usr/local/lib/python3.10/dist-packages/patsy/compat.py\u001b[0m in \u001b[0;36mcall_and_wrap_exc\u001b[0;34m(msg, origin, f, *args, **kwargs)\u001b[0m\n\u001b[1;32m     35\u001b[0m     \u001b[0;32mtry\u001b[0m\u001b[0;34m:\u001b[0m\u001b[0;34m\u001b[0m\u001b[0;34m\u001b[0m\u001b[0m\n\u001b[0;32m---> 36\u001b[0;31m         \u001b[0;32mreturn\u001b[0m \u001b[0mf\u001b[0m\u001b[0;34m(\u001b[0m\u001b[0;34m*\u001b[0m\u001b[0margs\u001b[0m\u001b[0;34m,\u001b[0m \u001b[0;34m**\u001b[0m\u001b[0mkwargs\u001b[0m\u001b[0;34m)\u001b[0m\u001b[0;34m\u001b[0m\u001b[0;34m\u001b[0m\u001b[0m\n\u001b[0m\u001b[1;32m     37\u001b[0m     \u001b[0;32mexcept\u001b[0m \u001b[0mException\u001b[0m \u001b[0;32mas\u001b[0m \u001b[0me\u001b[0m\u001b[0;34m:\u001b[0m\u001b[0;34m\u001b[0m\u001b[0;34m\u001b[0m\u001b[0m\n",
            "\u001b[0;32m/usr/local/lib/python3.10/dist-packages/patsy/eval.py\u001b[0m in \u001b[0;36meval\u001b[0;34m(self, expr, source_name, inner_namespace)\u001b[0m\n\u001b[1;32m    168\u001b[0m         \u001b[0mcode\u001b[0m \u001b[0;34m=\u001b[0m \u001b[0mcompile\u001b[0m\u001b[0;34m(\u001b[0m\u001b[0mexpr\u001b[0m\u001b[0;34m,\u001b[0m \u001b[0msource_name\u001b[0m\u001b[0;34m,\u001b[0m \u001b[0;34m\"eval\"\u001b[0m\u001b[0;34m,\u001b[0m \u001b[0mself\u001b[0m\u001b[0;34m.\u001b[0m\u001b[0mflags\u001b[0m\u001b[0;34m,\u001b[0m \u001b[0;32mFalse\u001b[0m\u001b[0;34m)\u001b[0m\u001b[0;34m\u001b[0m\u001b[0;34m\u001b[0m\u001b[0m\n\u001b[0;32m--> 169\u001b[0;31m         return eval(code, {}, VarLookupDict([inner_namespace]\n\u001b[0m\u001b[1;32m    170\u001b[0m                                             + self._namespaces))\n",
            "\u001b[0;32m<string>\u001b[0m in \u001b[0;36m<module>\u001b[0;34m\u001b[0m\n",
            "\u001b[0;31mNameError\u001b[0m: name 'population' is not defined",
            "\nThe above exception was the direct cause of the following exception:\n",
            "\u001b[0;31mPatsyError\u001b[0m                                Traceback (most recent call last)",
            "\u001b[0;32m<ipython-input-18-db529cc4d887>\u001b[0m in \u001b[0;36m<cell line: 3>\u001b[0;34m()\u001b[0m\n\u001b[1;32m      1\u001b[0m \u001b[0;31m# -- your code here\u001b[0m\u001b[0;34m\u001b[0m\u001b[0;34m\u001b[0m\u001b[0m\n\u001b[1;32m      2\u001b[0m \u001b[0;32mimport\u001b[0m \u001b[0mstatsmodels\u001b[0m\u001b[0;34m.\u001b[0m\u001b[0mformula\u001b[0m\u001b[0;34m.\u001b[0m\u001b[0mapi\u001b[0m \u001b[0;32mas\u001b[0m \u001b[0msmf\u001b[0m\u001b[0;34m\u001b[0m\u001b[0;34m\u001b[0m\u001b[0m\n\u001b[0;32m----> 3\u001b[0;31m \u001b[0mmod\u001b[0m \u001b[0;34m=\u001b[0m \u001b[0msmf\u001b[0m\u001b[0;34m.\u001b[0m\u001b[0mols\u001b[0m\u001b[0;34m(\u001b[0m\u001b[0mformula\u001b[0m\u001b[0;34m=\u001b[0m\u001b[0;34m'wspeed ~ population'\u001b[0m\u001b[0;34m,\u001b[0m \u001b[0mdata\u001b[0m\u001b[0;34m=\u001b[0m\u001b[0mdf\u001b[0m\u001b[0;34m)\u001b[0m\u001b[0;34m\u001b[0m\u001b[0;34m\u001b[0m\u001b[0m\n\u001b[0m\u001b[1;32m      4\u001b[0m \u001b[0mres\u001b[0m \u001b[0;34m=\u001b[0m \u001b[0mmod\u001b[0m\u001b[0;34m.\u001b[0m\u001b[0mfit\u001b[0m\u001b[0;34m(\u001b[0m\u001b[0;34m)\u001b[0m\u001b[0;34m\u001b[0m\u001b[0;34m\u001b[0m\u001b[0m\n\u001b[1;32m      5\u001b[0m \u001b[0mres\u001b[0m\u001b[0;34m.\u001b[0m\u001b[0msummary\u001b[0m\u001b[0;34m(\u001b[0m\u001b[0;34m)\u001b[0m\u001b[0;34m\u001b[0m\u001b[0;34m\u001b[0m\u001b[0m\n",
            "\u001b[0;32m/usr/local/lib/python3.10/dist-packages/statsmodels/base/model.py\u001b[0m in \u001b[0;36mfrom_formula\u001b[0;34m(cls, formula, data, subset, drop_cols, *args, **kwargs)\u001b[0m\n\u001b[1;32m    201\u001b[0m             \u001b[0mmissing\u001b[0m \u001b[0;34m=\u001b[0m \u001b[0;34m'raise'\u001b[0m\u001b[0;34m\u001b[0m\u001b[0;34m\u001b[0m\u001b[0m\n\u001b[1;32m    202\u001b[0m \u001b[0;34m\u001b[0m\u001b[0m\n\u001b[0;32m--> 203\u001b[0;31m         tmp = handle_formula_data(data, None, formula, depth=eval_env,\n\u001b[0m\u001b[1;32m    204\u001b[0m                                   missing=missing)\n\u001b[1;32m    205\u001b[0m         \u001b[0;34m(\u001b[0m\u001b[0;34m(\u001b[0m\u001b[0mendog\u001b[0m\u001b[0;34m,\u001b[0m \u001b[0mexog\u001b[0m\u001b[0;34m)\u001b[0m\u001b[0;34m,\u001b[0m \u001b[0mmissing_idx\u001b[0m\u001b[0;34m,\u001b[0m \u001b[0mdesign_info\u001b[0m\u001b[0;34m)\u001b[0m \u001b[0;34m=\u001b[0m \u001b[0mtmp\u001b[0m\u001b[0;34m\u001b[0m\u001b[0;34m\u001b[0m\u001b[0m\n",
            "\u001b[0;32m/usr/local/lib/python3.10/dist-packages/statsmodels/formula/formulatools.py\u001b[0m in \u001b[0;36mhandle_formula_data\u001b[0;34m(Y, X, formula, depth, missing)\u001b[0m\n\u001b[1;32m     61\u001b[0m     \u001b[0;32melse\u001b[0m\u001b[0;34m:\u001b[0m\u001b[0;34m\u001b[0m\u001b[0;34m\u001b[0m\u001b[0m\n\u001b[1;32m     62\u001b[0m         \u001b[0;32mif\u001b[0m \u001b[0mdata_util\u001b[0m\u001b[0;34m.\u001b[0m\u001b[0m_is_using_pandas\u001b[0m\u001b[0;34m(\u001b[0m\u001b[0mY\u001b[0m\u001b[0;34m,\u001b[0m \u001b[0;32mNone\u001b[0m\u001b[0;34m)\u001b[0m\u001b[0;34m:\u001b[0m\u001b[0;34m\u001b[0m\u001b[0;34m\u001b[0m\u001b[0m\n\u001b[0;32m---> 63\u001b[0;31m             result = dmatrices(formula, Y, depth, return_type='dataframe',\n\u001b[0m\u001b[1;32m     64\u001b[0m                                NA_action=na_action)\n\u001b[1;32m     65\u001b[0m         \u001b[0;32melse\u001b[0m\u001b[0;34m:\u001b[0m\u001b[0;34m\u001b[0m\u001b[0;34m\u001b[0m\u001b[0m\n",
            "\u001b[0;32m/usr/local/lib/python3.10/dist-packages/patsy/highlevel.py\u001b[0m in \u001b[0;36mdmatrices\u001b[0;34m(formula_like, data, eval_env, NA_action, return_type)\u001b[0m\n\u001b[1;32m    307\u001b[0m     \"\"\"\n\u001b[1;32m    308\u001b[0m     \u001b[0meval_env\u001b[0m \u001b[0;34m=\u001b[0m \u001b[0mEvalEnvironment\u001b[0m\u001b[0;34m.\u001b[0m\u001b[0mcapture\u001b[0m\u001b[0;34m(\u001b[0m\u001b[0meval_env\u001b[0m\u001b[0;34m,\u001b[0m \u001b[0mreference\u001b[0m\u001b[0;34m=\u001b[0m\u001b[0;36m1\u001b[0m\u001b[0;34m)\u001b[0m\u001b[0;34m\u001b[0m\u001b[0;34m\u001b[0m\u001b[0m\n\u001b[0;32m--> 309\u001b[0;31m     (lhs, rhs) = _do_highlevel_design(formula_like, data, eval_env,\n\u001b[0m\u001b[1;32m    310\u001b[0m                                       NA_action, return_type)\n\u001b[1;32m    311\u001b[0m     \u001b[0;32mif\u001b[0m \u001b[0mlhs\u001b[0m\u001b[0;34m.\u001b[0m\u001b[0mshape\u001b[0m\u001b[0;34m[\u001b[0m\u001b[0;36m1\u001b[0m\u001b[0;34m]\u001b[0m \u001b[0;34m==\u001b[0m \u001b[0;36m0\u001b[0m\u001b[0;34m:\u001b[0m\u001b[0;34m\u001b[0m\u001b[0;34m\u001b[0m\u001b[0m\n",
            "\u001b[0;32m/usr/local/lib/python3.10/dist-packages/patsy/highlevel.py\u001b[0m in \u001b[0;36m_do_highlevel_design\u001b[0;34m(formula_like, data, eval_env, NA_action, return_type)\u001b[0m\n\u001b[1;32m    162\u001b[0m     \u001b[0;32mdef\u001b[0m \u001b[0mdata_iter_maker\u001b[0m\u001b[0;34m(\u001b[0m\u001b[0;34m)\u001b[0m\u001b[0;34m:\u001b[0m\u001b[0;34m\u001b[0m\u001b[0;34m\u001b[0m\u001b[0m\n\u001b[1;32m    163\u001b[0m         \u001b[0;32mreturn\u001b[0m \u001b[0miter\u001b[0m\u001b[0;34m(\u001b[0m\u001b[0;34m[\u001b[0m\u001b[0mdata\u001b[0m\u001b[0;34m]\u001b[0m\u001b[0;34m)\u001b[0m\u001b[0;34m\u001b[0m\u001b[0;34m\u001b[0m\u001b[0m\n\u001b[0;32m--> 164\u001b[0;31m     design_infos = _try_incr_builders(formula_like, data_iter_maker, eval_env,\n\u001b[0m\u001b[1;32m    165\u001b[0m                                       NA_action)\n\u001b[1;32m    166\u001b[0m     \u001b[0;32mif\u001b[0m \u001b[0mdesign_infos\u001b[0m \u001b[0;32mis\u001b[0m \u001b[0;32mnot\u001b[0m \u001b[0;32mNone\u001b[0m\u001b[0;34m:\u001b[0m\u001b[0;34m\u001b[0m\u001b[0;34m\u001b[0m\u001b[0m\n",
            "\u001b[0;32m/usr/local/lib/python3.10/dist-packages/patsy/highlevel.py\u001b[0m in \u001b[0;36m_try_incr_builders\u001b[0;34m(formula_like, data_iter_maker, eval_env, NA_action)\u001b[0m\n\u001b[1;32m     64\u001b[0m     \u001b[0;32mif\u001b[0m \u001b[0misinstance\u001b[0m\u001b[0;34m(\u001b[0m\u001b[0mformula_like\u001b[0m\u001b[0;34m,\u001b[0m \u001b[0mModelDesc\u001b[0m\u001b[0;34m)\u001b[0m\u001b[0;34m:\u001b[0m\u001b[0;34m\u001b[0m\u001b[0;34m\u001b[0m\u001b[0m\n\u001b[1;32m     65\u001b[0m         \u001b[0;32massert\u001b[0m \u001b[0misinstance\u001b[0m\u001b[0;34m(\u001b[0m\u001b[0meval_env\u001b[0m\u001b[0;34m,\u001b[0m \u001b[0mEvalEnvironment\u001b[0m\u001b[0;34m)\u001b[0m\u001b[0;34m\u001b[0m\u001b[0;34m\u001b[0m\u001b[0m\n\u001b[0;32m---> 66\u001b[0;31m         return design_matrix_builders([formula_like.lhs_termlist,\n\u001b[0m\u001b[1;32m     67\u001b[0m                                        formula_like.rhs_termlist],\n\u001b[1;32m     68\u001b[0m                                       \u001b[0mdata_iter_maker\u001b[0m\u001b[0;34m,\u001b[0m\u001b[0;34m\u001b[0m\u001b[0;34m\u001b[0m\u001b[0m\n",
            "\u001b[0;32m/usr/local/lib/python3.10/dist-packages/patsy/build.py\u001b[0m in \u001b[0;36mdesign_matrix_builders\u001b[0;34m(termlists, data_iter_maker, eval_env, NA_action)\u001b[0m\n\u001b[1;32m    691\u001b[0m     \u001b[0;31m# on some data to find out what type of data they return.\u001b[0m\u001b[0;34m\u001b[0m\u001b[0;34m\u001b[0m\u001b[0m\n\u001b[1;32m    692\u001b[0m     (num_column_counts,\n\u001b[0;32m--> 693\u001b[0;31m      \u001b[0mcat_levels_contrasts\u001b[0m\u001b[0;34m)\u001b[0m \u001b[0;34m=\u001b[0m \u001b[0m_examine_factor_types\u001b[0m\u001b[0;34m(\u001b[0m\u001b[0mall_factors\u001b[0m\u001b[0;34m,\u001b[0m\u001b[0;34m\u001b[0m\u001b[0;34m\u001b[0m\u001b[0m\n\u001b[0m\u001b[1;32m    694\u001b[0m                                                    \u001b[0mfactor_states\u001b[0m\u001b[0;34m,\u001b[0m\u001b[0;34m\u001b[0m\u001b[0;34m\u001b[0m\u001b[0m\n\u001b[1;32m    695\u001b[0m                                                    \u001b[0mdata_iter_maker\u001b[0m\u001b[0;34m,\u001b[0m\u001b[0;34m\u001b[0m\u001b[0;34m\u001b[0m\u001b[0m\n",
            "\u001b[0;32m/usr/local/lib/python3.10/dist-packages/patsy/build.py\u001b[0m in \u001b[0;36m_examine_factor_types\u001b[0;34m(factors, factor_states, data_iter_maker, NA_action)\u001b[0m\n\u001b[1;32m    441\u001b[0m     \u001b[0;32mfor\u001b[0m \u001b[0mdata\u001b[0m \u001b[0;32min\u001b[0m \u001b[0mdata_iter_maker\u001b[0m\u001b[0;34m(\u001b[0m\u001b[0;34m)\u001b[0m\u001b[0;34m:\u001b[0m\u001b[0;34m\u001b[0m\u001b[0;34m\u001b[0m\u001b[0m\n\u001b[1;32m    442\u001b[0m         \u001b[0;32mfor\u001b[0m \u001b[0mfactor\u001b[0m \u001b[0;32min\u001b[0m \u001b[0mlist\u001b[0m\u001b[0;34m(\u001b[0m\u001b[0mexamine_needed\u001b[0m\u001b[0;34m)\u001b[0m\u001b[0;34m:\u001b[0m\u001b[0;34m\u001b[0m\u001b[0;34m\u001b[0m\u001b[0m\n\u001b[0;32m--> 443\u001b[0;31m             \u001b[0mvalue\u001b[0m \u001b[0;34m=\u001b[0m \u001b[0mfactor\u001b[0m\u001b[0;34m.\u001b[0m\u001b[0meval\u001b[0m\u001b[0;34m(\u001b[0m\u001b[0mfactor_states\u001b[0m\u001b[0;34m[\u001b[0m\u001b[0mfactor\u001b[0m\u001b[0;34m]\u001b[0m\u001b[0;34m,\u001b[0m \u001b[0mdata\u001b[0m\u001b[0;34m)\u001b[0m\u001b[0;34m\u001b[0m\u001b[0;34m\u001b[0m\u001b[0m\n\u001b[0m\u001b[1;32m    444\u001b[0m             \u001b[0;32mif\u001b[0m \u001b[0mfactor\u001b[0m \u001b[0;32min\u001b[0m \u001b[0mcat_sniffers\u001b[0m \u001b[0;32mor\u001b[0m \u001b[0mguess_categorical\u001b[0m\u001b[0;34m(\u001b[0m\u001b[0mvalue\u001b[0m\u001b[0;34m)\u001b[0m\u001b[0;34m:\u001b[0m\u001b[0;34m\u001b[0m\u001b[0;34m\u001b[0m\u001b[0m\n\u001b[1;32m    445\u001b[0m                 \u001b[0;32mif\u001b[0m \u001b[0mfactor\u001b[0m \u001b[0;32mnot\u001b[0m \u001b[0;32min\u001b[0m \u001b[0mcat_sniffers\u001b[0m\u001b[0;34m:\u001b[0m\u001b[0;34m\u001b[0m\u001b[0;34m\u001b[0m\u001b[0m\n",
            "\u001b[0;32m/usr/local/lib/python3.10/dist-packages/patsy/eval.py\u001b[0m in \u001b[0;36meval\u001b[0;34m(self, memorize_state, data)\u001b[0m\n\u001b[1;32m    566\u001b[0m \u001b[0;34m\u001b[0m\u001b[0m\n\u001b[1;32m    567\u001b[0m     \u001b[0;32mdef\u001b[0m \u001b[0meval\u001b[0m\u001b[0;34m(\u001b[0m\u001b[0mself\u001b[0m\u001b[0;34m,\u001b[0m \u001b[0mmemorize_state\u001b[0m\u001b[0;34m,\u001b[0m \u001b[0mdata\u001b[0m\u001b[0;34m)\u001b[0m\u001b[0;34m:\u001b[0m\u001b[0;34m\u001b[0m\u001b[0;34m\u001b[0m\u001b[0m\n\u001b[0;32m--> 568\u001b[0;31m         return self._eval(memorize_state[\"eval_code\"],\n\u001b[0m\u001b[1;32m    569\u001b[0m                           \u001b[0mmemorize_state\u001b[0m\u001b[0;34m,\u001b[0m\u001b[0;34m\u001b[0m\u001b[0;34m\u001b[0m\u001b[0m\n\u001b[1;32m    570\u001b[0m                           data)\n",
            "\u001b[0;32m/usr/local/lib/python3.10/dist-packages/patsy/eval.py\u001b[0m in \u001b[0;36m_eval\u001b[0;34m(self, code, memorize_state, data)\u001b[0m\n\u001b[1;32m    549\u001b[0m     \u001b[0;32mdef\u001b[0m \u001b[0m_eval\u001b[0m\u001b[0;34m(\u001b[0m\u001b[0mself\u001b[0m\u001b[0;34m,\u001b[0m \u001b[0mcode\u001b[0m\u001b[0;34m,\u001b[0m \u001b[0mmemorize_state\u001b[0m\u001b[0;34m,\u001b[0m \u001b[0mdata\u001b[0m\u001b[0;34m)\u001b[0m\u001b[0;34m:\u001b[0m\u001b[0;34m\u001b[0m\u001b[0;34m\u001b[0m\u001b[0m\n\u001b[1;32m    550\u001b[0m         \u001b[0minner_namespace\u001b[0m \u001b[0;34m=\u001b[0m \u001b[0mVarLookupDict\u001b[0m\u001b[0;34m(\u001b[0m\u001b[0;34m[\u001b[0m\u001b[0mdata\u001b[0m\u001b[0;34m,\u001b[0m \u001b[0mmemorize_state\u001b[0m\u001b[0;34m[\u001b[0m\u001b[0;34m\"transforms\"\u001b[0m\u001b[0;34m]\u001b[0m\u001b[0;34m]\u001b[0m\u001b[0;34m)\u001b[0m\u001b[0;34m\u001b[0m\u001b[0;34m\u001b[0m\u001b[0m\n\u001b[0;32m--> 551\u001b[0;31m         return call_and_wrap_exc(\"Error evaluating factor\",\n\u001b[0m\u001b[1;32m    552\u001b[0m                                  \u001b[0mself\u001b[0m\u001b[0;34m,\u001b[0m\u001b[0;34m\u001b[0m\u001b[0;34m\u001b[0m\u001b[0m\n\u001b[1;32m    553\u001b[0m                                  \u001b[0mmemorize_state\u001b[0m\u001b[0;34m[\u001b[0m\u001b[0;34m\"eval_env\"\u001b[0m\u001b[0;34m]\u001b[0m\u001b[0;34m.\u001b[0m\u001b[0meval\u001b[0m\u001b[0;34m,\u001b[0m\u001b[0;34m\u001b[0m\u001b[0;34m\u001b[0m\u001b[0m\n",
            "\u001b[0;32m/usr/local/lib/python3.10/dist-packages/patsy/compat.py\u001b[0m in \u001b[0;36mcall_and_wrap_exc\u001b[0;34m(msg, origin, f, *args, **kwargs)\u001b[0m\n\u001b[1;32m     41\u001b[0m                                  origin)\n\u001b[1;32m     42\u001b[0m             \u001b[0;31m# Use 'exec' to hide this syntax from the Python 2 parser:\u001b[0m\u001b[0;34m\u001b[0m\u001b[0;34m\u001b[0m\u001b[0m\n\u001b[0;32m---> 43\u001b[0;31m             \u001b[0mexec\u001b[0m\u001b[0;34m(\u001b[0m\u001b[0;34m\"raise new_exc from e\"\u001b[0m\u001b[0;34m)\u001b[0m\u001b[0;34m\u001b[0m\u001b[0;34m\u001b[0m\u001b[0m\n\u001b[0m\u001b[1;32m     44\u001b[0m         \u001b[0;32melse\u001b[0m\u001b[0;34m:\u001b[0m\u001b[0;34m\u001b[0m\u001b[0;34m\u001b[0m\u001b[0m\n\u001b[1;32m     45\u001b[0m             \u001b[0;31m# In python 2, we just let the original exception escape -- better\u001b[0m\u001b[0;34m\u001b[0m\u001b[0;34m\u001b[0m\u001b[0m\n",
            "\u001b[0;32m/usr/local/lib/python3.10/dist-packages/patsy/compat.py\u001b[0m in \u001b[0;36m<module>\u001b[0;34m\u001b[0m\n",
            "\u001b[0;31mPatsyError\u001b[0m: Error evaluating factor: NameError: name 'population' is not defined\n    wspeed ~ population\n             ^^^^^^^^^^"
          ]
        }
      ],
      "source": [
        "# -- your code here\n",
        "import statsmodels.formula.api as smf\n",
        "mod = smf.ols(formula='wspeed ~ population', data=df)\n",
        "res = mod.fit()\n",
        "res.summary()\n"
      ]
    },
    {
      "cell_type": "code",
      "execution_count": 19,
      "metadata": {
        "id": "YQUGGITFxh7u"
      },
      "outputs": [],
      "source": [
        "df1[\"house_age_standard\"]=(df[\"house_age\"]-np.mean(df[\"house_age\"]))/np.std(df[\"house_age\"])"
      ]
    },
    {
      "cell_type": "code",
      "execution_count": 20,
      "metadata": {
        "id": "GJ3YaB9dxv23"
      },
      "outputs": [],
      "source": [
        "df1[\"transaction_date_standard\"]=(df[\"transaction_date\"]-np.mean(df[\"transaction_date\"]))/np.std(df[\"transaction_date\"])"
      ]
    },
    {
      "cell_type": "code",
      "execution_count": 21,
      "metadata": {
        "id": "1-AQZ9Qkx6pk"
      },
      "outputs": [],
      "source": [
        "df1[\"convenience_stores_standard\"]=(df[\"convenience_stores\"]-np.mean(df[\"convenience_stores\"]))/np.std(df[\"convenience_stores\"])"
      ]
    },
    {
      "cell_type": "code",
      "execution_count": 22,
      "metadata": {
        "colab": {
          "base_uri": "https://localhost:8080/"
        },
        "id": "nD-MzV0Dy4xU",
        "outputId": "e3ac178b-7e0c-4135-b36d-fd78bd6158f0"
      },
      "outputs": [
        {
          "output_type": "execute_result",
          "data": {
            "text/plain": [
              "Index(['log_10_distance_standard', 'house_price_unit_area_standard',\n",
              "       'predicted_house_price_unit_area_standard', 'house_age_standard',\n",
              "       'transaction_date_standard', 'convenience_stores_standard'],\n",
              "      dtype='object')"
            ]
          },
          "metadata": {},
          "execution_count": 22
        }
      ],
      "source": [
        "df1.columns"
      ]
    },
    {
      "cell_type": "markdown",
      "metadata": {
        "id": "9uU9ObdYyCEz"
      },
      "source": []
    },
    {
      "cell_type": "markdown",
      "metadata": {
        "id": "AmfRiI8-zG3I"
      },
      "source": []
    },
    {
      "cell_type": "code",
      "execution_count": 23,
      "metadata": {
        "id": "XIC9wXwvzHR7"
      },
      "outputs": [],
      "source": [
        "import statsmodels.formula.api as smf"
      ]
    },
    {
      "cell_type": "markdown",
      "metadata": {
        "id": "sSYvBMkXcxjx"
      },
      "source": [
        "Using the code library of your choice, fit a multiple linear regression model to the data"
      ]
    },
    {
      "cell_type": "code",
      "execution_count": 24,
      "metadata": {
        "colab": {
          "base_uri": "https://localhost:8080/",
          "height": 507
        },
        "id": "_EPrB-FdZ4cE",
        "outputId": "f5b9dedf-3de3-4653-889c-a306ca3a22ab"
      },
      "outputs": [
        {
          "output_type": "execute_result",
          "data": {
            "text/plain": [
              "<class 'statsmodels.iolib.summary.Summary'>\n",
              "\"\"\"\n",
              "                                  OLS Regression Results                                  \n",
              "==========================================================================================\n",
              "Dep. Variable:     house_price_unit_area_standard   R-squared:                       0.601\n",
              "Model:                                        OLS   Adj. R-squared:                  0.597\n",
              "Method:                             Least Squares   F-statistic:                     154.2\n",
              "Date:                            Tue, 24 Oct 2023   Prob (F-statistic):           2.72e-80\n",
              "Time:                                    19:03:12   Log-Likelihood:                -397.12\n",
              "No. Observations:                             414   AIC:                             804.2\n",
              "Df Residuals:                                 409   BIC:                             824.4\n",
              "Df Model:                                       4                                         \n",
              "Covariance Type:                        nonrobust                                         \n",
              "===============================================================================================\n",
              "                                  coef    std err          t      P>|t|      [0.025      0.975]\n",
              "-----------------------------------------------------------------------------------------------\n",
              "Intercept                   -5.645e-14      0.031  -1.81e-12      1.000      -0.061       0.061\n",
              "log_10_distance_standard       -0.6431      0.044    -14.697      0.000      -0.729      -0.557\n",
              "convenience_stores_standard     0.1375      0.044      3.160      0.002       0.052       0.223\n",
              "transaction_date_standard       0.1521      0.032      4.822      0.000       0.090       0.214\n",
              "house_age_standard             -0.1768      0.032     -5.599      0.000      -0.239      -0.115\n",
              "==============================================================================\n",
              "Omnibus:                      222.884   Durbin-Watson:                   2.091\n",
              "Prob(Omnibus):                  0.000   Jarque-Bera (JB):             3251.894\n",
              "Skew:                           1.942   Prob(JB):                         0.00\n",
              "Kurtosis:                      16.169   Cond. No.                         2.39\n",
              "==============================================================================\n",
              "\n",
              "Notes:\n",
              "[1] Standard Errors assume that the covariance matrix of the errors is correctly specified.\n",
              "\"\"\""
            ],
            "text/html": [
              "<table class=\"simpletable\">\n",
              "<caption>OLS Regression Results</caption>\n",
              "<tr>\n",
              "  <th>Dep. Variable:</th>    <td>house_price_unit_area_standard</td> <th>  R-squared:         </th> <td>   0.601</td>\n",
              "</tr>\n",
              "<tr>\n",
              "  <th>Model:</th>                          <td>OLS</td>              <th>  Adj. R-squared:    </th> <td>   0.597</td>\n",
              "</tr>\n",
              "<tr>\n",
              "  <th>Method:</th>                    <td>Least Squares</td>         <th>  F-statistic:       </th> <td>   154.2</td>\n",
              "</tr>\n",
              "<tr>\n",
              "  <th>Date:</th>                    <td>Tue, 24 Oct 2023</td>        <th>  Prob (F-statistic):</th> <td>2.72e-80</td>\n",
              "</tr>\n",
              "<tr>\n",
              "  <th>Time:</th>                        <td>19:03:12</td>            <th>  Log-Likelihood:    </th> <td> -397.12</td>\n",
              "</tr>\n",
              "<tr>\n",
              "  <th>No. Observations:</th>             <td>   414</td>             <th>  AIC:               </th> <td>   804.2</td>\n",
              "</tr>\n",
              "<tr>\n",
              "  <th>Df Residuals:</th>                 <td>   409</td>             <th>  BIC:               </th> <td>   824.4</td>\n",
              "</tr>\n",
              "<tr>\n",
              "  <th>Df Model:</th>                     <td>     4</td>             <th>                     </th>     <td> </td>   \n",
              "</tr>\n",
              "<tr>\n",
              "  <th>Covariance Type:</th>             <td>nonrobust</td>           <th>                     </th>     <td> </td>   \n",
              "</tr>\n",
              "</table>\n",
              "<table class=\"simpletable\">\n",
              "<tr>\n",
              "               <td></td>                  <th>coef</th>     <th>std err</th>      <th>t</th>      <th>P>|t|</th>  <th>[0.025</th>    <th>0.975]</th>  \n",
              "</tr>\n",
              "<tr>\n",
              "  <th>Intercept</th>                   <td>-5.645e-14</td> <td>    0.031</td> <td>-1.81e-12</td> <td> 1.000</td> <td>   -0.061</td> <td>    0.061</td>\n",
              "</tr>\n",
              "<tr>\n",
              "  <th>log_10_distance_standard</th>    <td>   -0.6431</td> <td>    0.044</td> <td>  -14.697</td> <td> 0.000</td> <td>   -0.729</td> <td>   -0.557</td>\n",
              "</tr>\n",
              "<tr>\n",
              "  <th>convenience_stores_standard</th> <td>    0.1375</td> <td>    0.044</td> <td>    3.160</td> <td> 0.002</td> <td>    0.052</td> <td>    0.223</td>\n",
              "</tr>\n",
              "<tr>\n",
              "  <th>transaction_date_standard</th>   <td>    0.1521</td> <td>    0.032</td> <td>    4.822</td> <td> 0.000</td> <td>    0.090</td> <td>    0.214</td>\n",
              "</tr>\n",
              "<tr>\n",
              "  <th>house_age_standard</th>          <td>   -0.1768</td> <td>    0.032</td> <td>   -5.599</td> <td> 0.000</td> <td>   -0.239</td> <td>   -0.115</td>\n",
              "</tr>\n",
              "</table>\n",
              "<table class=\"simpletable\">\n",
              "<tr>\n",
              "  <th>Omnibus:</th>       <td>222.884</td> <th>  Durbin-Watson:     </th> <td>   2.091</td>\n",
              "</tr>\n",
              "<tr>\n",
              "  <th>Prob(Omnibus):</th> <td> 0.000</td>  <th>  Jarque-Bera (JB):  </th> <td>3251.894</td>\n",
              "</tr>\n",
              "<tr>\n",
              "  <th>Skew:</th>          <td> 1.942</td>  <th>  Prob(JB):          </th> <td>    0.00</td>\n",
              "</tr>\n",
              "<tr>\n",
              "  <th>Kurtosis:</th>      <td>16.169</td>  <th>  Cond. No.          </th> <td>    2.39</td>\n",
              "</tr>\n",
              "</table><br/><br/>Notes:<br/>[1] Standard Errors assume that the covariance matrix of the errors is correctly specified."
            ],
            "text/latex": "\\begin{center}\n\\begin{tabular}{lclc}\n\\toprule\n\\textbf{Dep. Variable:}                & house\\_price\\_unit\\_area\\_standard & \\textbf{  R-squared:         } &     0.601   \\\\\n\\textbf{Model:}                        &                OLS                 & \\textbf{  Adj. R-squared:    } &     0.597   \\\\\n\\textbf{Method:}                       &           Least Squares            & \\textbf{  F-statistic:       } &     154.2   \\\\\n\\textbf{Date:}                         &          Tue, 24 Oct 2023          & \\textbf{  Prob (F-statistic):} &  2.72e-80   \\\\\n\\textbf{Time:}                         &              19:03:12              & \\textbf{  Log-Likelihood:    } &   -397.12   \\\\\n\\textbf{No. Observations:}             &                  414               & \\textbf{  AIC:               } &     804.2   \\\\\n\\textbf{Df Residuals:}                 &                  409               & \\textbf{  BIC:               } &     824.4   \\\\\n\\textbf{Df Model:}                     &                    4               & \\textbf{                     } &             \\\\\n\\textbf{Covariance Type:}              &             nonrobust              & \\textbf{                     } &             \\\\\n\\bottomrule\n\\end{tabular}\n\\begin{tabular}{lcccccc}\n                                       & \\textbf{coef} & \\textbf{std err} & \\textbf{t} & \\textbf{P$> |$t$|$} & \\textbf{[0.025} & \\textbf{0.975]}  \\\\\n\\midrule\n\\textbf{Intercept}                     &   -5.645e-14  &        0.031     & -1.81e-12  &         1.000        &       -0.061    &        0.061     \\\\\n\\textbf{log\\_10\\_distance\\_standard}   &      -0.6431  &        0.044     &   -14.697  &         0.000        &       -0.729    &       -0.557     \\\\\n\\textbf{convenience\\_stores\\_standard} &       0.1375  &        0.044     &     3.160  &         0.002        &        0.052    &        0.223     \\\\\n\\textbf{transaction\\_date\\_standard}   &       0.1521  &        0.032     &     4.822  &         0.000        &        0.090    &        0.214     \\\\\n\\textbf{house\\_age\\_standard}          &      -0.1768  &        0.032     &    -5.599  &         0.000        &       -0.239    &       -0.115     \\\\\n\\bottomrule\n\\end{tabular}\n\\begin{tabular}{lclc}\n\\textbf{Omnibus:}       & 222.884 & \\textbf{  Durbin-Watson:     } &    2.091  \\\\\n\\textbf{Prob(Omnibus):} &   0.000 & \\textbf{  Jarque-Bera (JB):  } & 3251.894  \\\\\n\\textbf{Skew:}          &   1.942 & \\textbf{  Prob(JB):          } &     0.00  \\\\\n\\textbf{Kurtosis:}      &  16.169 & \\textbf{  Cond. No.          } &     2.39  \\\\\n\\bottomrule\n\\end{tabular}\n%\\caption{OLS Regression Results}\n\\end{center}\n\nNotes: \\newline\n [1] Standard Errors assume that the covariance matrix of the errors is correctly specified."
          },
          "metadata": {},
          "execution_count": 24
        }
      ],
      "source": [
        "# -- your code here\n",
        "#target variable: house price\n",
        "mod=smf.ols(formula='house_price_unit_area_standard ~ log_10_distance_standard + convenience_stores_standard + transaction_date_standard + house_age_standard ',data=df1)\n",
        "res = mod.fit()\n",
        "res.summary()\n"
      ]
    },
    {
      "cell_type": "code",
      "source": [],
      "metadata": {
        "id": "D_FkGiljEd9z"
      },
      "execution_count": null,
      "outputs": []
    },
    {
      "cell_type": "markdown",
      "metadata": {
        "id": "tlAbv9Gpc5Vz"
      },
      "source": [
        "Print the coefficients of each of the features"
      ]
    },
    {
      "cell_type": "code",
      "execution_count": null,
      "metadata": {
        "colab": {
          "base_uri": "https://localhost:8080/"
        },
        "id": "IQtGO6lcZ4eF",
        "outputId": "a516cc35-287c-4722-d9b8-88f1e30c0fc2"
      },
      "outputs": [
        {
          "name": "stdout",
          "output_type": "stream",
          "text": [
            "coefficient for log_dist_MRT= -0.643\n",
            "coefficient for convenience_stores= 0.137\n",
            "coefficient for transaction_date= 0.152\n",
            "coefficient for house_age= -0.177\n"
          ]
        }
      ],
      "source": [
        "# -- your code here\n",
        "print(\"coefficient for log_dist_MRT=\",-0.643)\n",
        "print(\"coefficient for convenience_stores=\",0.137)\n",
        "print(\"coefficient for transaction_date=\",0.152)\n",
        "print(\"coefficient for house_age=\",-0.177)\n",
        "\n"
      ]
    },
    {
      "cell_type": "markdown",
      "metadata": {
        "id": "d5doqy3rdHLW"
      },
      "source": [
        "What can you claim about the relative correlation and influence of each feature on the prediction of the target variable? The log_dist_MRT has the most absolute value for correlation and thus it has the most impact on the house prices. The other three features have almost the same impact and less influence on the house prices. Also, the distance and house age features have negative correlations meaning that closer and newer houses are more expensive. The transaction date and convenience_stores nearby have positive correlations with the house prices, meaning that their increase, increases the house prices."
      ]
    },
    {
      "cell_type": "markdown",
      "metadata": {
        "id": "X63QO1tAdIgF"
      },
      "source": [
        "*your answer here*"
      ]
    },
    {
      "cell_type": "markdown",
      "metadata": {
        "id": "X8K0ZhrMdLcG"
      },
      "source": [
        "Print the $R^2$ of this model"
      ]
    },
    {
      "cell_type": "code",
      "execution_count": 25,
      "metadata": {
        "colab": {
          "base_uri": "https://localhost:8080/"
        },
        "id": "9Qc4BC8BVdy9",
        "outputId": "c6a1dfb2-8d80-4786-9f1c-c98193beb691"
      },
      "outputs": [
        {
          "output_type": "stream",
          "name": "stdout",
          "text": [
            "r2= 0.6012570203149735\n"
          ]
        }
      ],
      "source": [
        "# -- your code here\n",
        "print('r2=',res.rsquared)"
      ]
    },
    {
      "cell_type": "markdown",
      "metadata": {
        "id": "7P5iogz_dSfD"
      },
      "source": [
        "Looking only at the $R^2$ scores for this model relative to the previous model in Task 1, would you say the model has improved with the addition of the remaining features or not? and Why?"
      ]
    },
    {
      "cell_type": "markdown",
      "metadata": {
        "id": "sMUCOhQOdXaE"
      },
      "source": [
        "*your answer here*"
      ]
    },
    {
      "cell_type": "markdown",
      "metadata": {
        "id": "zMWT8U7mdY0p"
      },
      "source": [
        "Print the Adjusted-$R^2$ of this model"
      ]
    },
    {
      "cell_type": "code",
      "execution_count": 29,
      "metadata": {
        "colab": {
          "base_uri": "https://localhost:8080/"
        },
        "id": "tvV_wPfKVd1f",
        "outputId": "2bd8d0df-ee86-4de3-f254-6e5f7959ae92"
      },
      "outputs": [
        {
          "output_type": "stream",
          "name": "stdout",
          "text": [
            "adjusted-r2= 0.5973573334720881\n"
          ]
        }
      ],
      "source": [
        "# -- your code here\n",
        "print('adjusted-r2=',res.rsquared_adj)"
      ]
    },
    {
      "cell_type": "code",
      "execution_count": null,
      "metadata": {
        "id": "j-WRwIC57C5u"
      },
      "outputs": [],
      "source": [
        "res.predict('log_10_distance_standard + convenience_stores_standard + transaction_date_standard + house_age_standard')"
      ]
    },
    {
      "cell_type": "markdown",
      "metadata": {
        "id": "xCpFXai6dkpL"
      },
      "source": [
        "Looking at both $R^2$ and Ajusted-$R^2$ scores for this model relative to the previous model in Task 1, would you say the model has improved with the addition of the remaining features or not? and Why?"
      ]
    },
    {
      "cell_type": "markdown",
      "metadata": {
        "id": "4BO8fq6odqrA"
      },
      "source": [
        "Although the model improved 0.601>0.53, we added three more features. The previous model could suffice for conclusion since there is not much differences in the r2 values obtained.\n"
      ]
    },
    {
      "cell_type": "markdown",
      "metadata": {
        "id": "mgIAi9C9duLy"
      },
      "source": [
        "Plot the actual vs. model predicted values for the house price/unit area for all objects in the data. Is there any visible improvement in the quality of the prediction that you can claim from comparing this plot with the one from Task 2? There is slight improvement but it is not significant."
      ]
    },
    {
      "cell_type": "code",
      "execution_count": null,
      "metadata": {
        "colab": {
          "base_uri": "https://localhost:8080/",
          "height": 280
        },
        "id": "JOwT7fmfVd3x",
        "outputId": "aa3d2685-8d41-449e-cde1-b3b1f321caf6"
      },
      "outputs": [
        {
          "data": {
            "image/png": "[encoded data removed]",
            "text/plain": [
              "<Figure size 432x288 with 1 Axes>"
            ]
          },
          "metadata": {},
          "output_type": "display_data"
        }
      ],
      "source": [
        "# -- your code here\n"
      ]
    },
    {
      "cell_type": "code",
      "execution_count": null,
      "metadata": {
        "id": "yROgV9i-Vd-W"
      },
      "outputs": [],
      "source": []
    }
  ],
  "metadata": {
    "colab": {
      "provenance": [],
      "include_colab_link": true
    },
    "kernelspec": {
      "display_name": "Python 3",
      "name": "python3"
    },
    "language_info": {
      "name": "python"
    }
  },
  "nbformat": 4,
  "nbformat_minor": 0
}