{
  "nbformat": 4,
  "nbformat_minor": 0,
  "metadata": {
    "colab": {
      "provenance": [],
      "include_colab_link": true
    },
    "kernelspec": {
      "name": "python3",
      "display_name": "Python 3"
    },
    "language_info": {
      "name": "python"
    }
  },
  "cells": [
    {
      "cell_type": "markdown",
      "metadata": {
        "id": "view-in-github",
        "colab_type": "text"
      },
      "source": [
        "<a href=\"https://colab.research.google.com/github/zhrvdt77/DSPS_ZVahdat/blob/main/Ztest_busDuration.ipynb\" target=\"_parent\"><img src=\"https://colab.research.google.com/assets/colab-badge.svg\" alt=\"Open In Colab\"/></a>"
      ]
    },
    {
      "cell_type": "markdown",
      "source": [
        "Trip duration for bus Septa32 is 34 min on average (+/- 2.4).\n",
        "We wonderful city planners think we have a better route that will save time.\n",
        "\n",
        "We ask you to our Department of Transportation data scientist to tell is if after we change the route has the trip duration has changed.\n",
        "\n",
        "We have measured the duration of the trips along the new route and collected the data here https://github.com/fedhere/FDSfE_FBianco/blob/main/data/triptimes.csv\n",
        "\n",
        "# What is your Null Hypothesis?\n",
        "\n"
      ],
      "metadata": {
        "id": "EgcJaoPojzdu"
      }
    },
    {
      "cell_type": "markdown",
      "source": [
        "The routes have the same duration.\n",
        "\n",
        "\n"
      ],
      "metadata": {
        "id": "ey2jcvBnfSG4"
      }
    },
    {
      "cell_type": "markdown",
      "source": [
        "The alternative hypothesis: the routes have different durations."
      ],
      "metadata": {
        "id": "XZCqCxq1fgaU"
      }
    },
    {
      "cell_type": "code",
      "source": [
        "import pandas as pd\n",
        "import numpy as np"
      ],
      "metadata": {
        "id": "nMoVfZe3as99"
      },
      "execution_count": 23,
      "outputs": []
    },
    {
      "cell_type": "code",
      "source": [
        "tripdurations=pd.read_csv('https://raw.githubusercontent.com/fedhere/FDSFE_FBianco/main/data/triptimes.csv',names=[\"duration\"])"
      ],
      "metadata": {
        "id": "A-JigmPJb-CA"
      },
      "execution_count": 9,
      "outputs": []
    },
    {
      "cell_type": "code",
      "source": [
        "tripdurations.describe().loc[\"mean\"]"
      ],
      "metadata": {
        "id": "N8AmNp20cDLK",
        "outputId": "21c75cc2-accf-473b-d1d8-09fa296fbb2d",
        "colab": {
          "base_uri": "https://localhost:8080/"
        }
      },
      "execution_count": 11,
      "outputs": [
        {
          "output_type": "execute_result",
          "data": {
            "text/plain": [
              "duration    34.466162\n",
              "Name: mean, dtype: float64"
            ]
          },
          "metadata": {},
          "execution_count": 11
        }
      ]
    },
    {
      "cell_type": "code",
      "source": [
        "xbar=tripdurations.describe().loc[\"mean\"]"
      ],
      "metadata": {
        "id": "SVoyLsDScag6"
      },
      "execution_count": 12,
      "outputs": []
    },
    {
      "cell_type": "code",
      "source": [
        "xbar=tripdurations.mean()\n",
        "xsigma=tripdurations.std()"
      ],
      "metadata": {
        "id": "qxk6obMvgjxc"
      },
      "execution_count": 22,
      "outputs": []
    },
    {
      "cell_type": "code",
      "source": [
        "z=(34-xbar)/(xsigma/np.sqrt(len(tripdurations)))\n",
        "print(z)"
      ],
      "metadata": {
        "id": "Jvv5sDiCgkfb",
        "outputId": "96132d37-262d-4593-e1c4-019c3e7c6ef9",
        "colab": {
          "base_uri": "https://localhost:8080/"
        }
      },
      "execution_count": 27,
      "outputs": [
        {
          "output_type": "stream",
          "name": "stdout",
          "text": [
            "duration   -0.653136\n",
            "dtype: float64\n"
          ]
        }
      ]
    },
    {
      "cell_type": "code",
      "source": [
        "if abs(z)>=sig:\n",
        "  we can reject null HP"
      ],
      "metadata": {
        "id": "i2BWGNjEgp7h"
      },
      "execution_count": null,
      "outputs": []
    },
    {
      "cell_type": "markdown",
      "source": [
        "We choose sigma=1 or sigma=2 before seeing data.\n",
        "\n",
        "\n",
        "if abs(z)>=sigma:\n",
        "  we can reject null HP"
      ],
      "metadata": {
        "id": "Q03_raSSmV2a"
      }
    },
    {
      "cell_type": "markdown",
      "source": [
        "So, we can not reject the Null HP."
      ],
      "metadata": {
        "id": "EIUYwT4cmtNU"
      }
    },
    {
      "cell_type": "code",
      "source": [],
      "metadata": {
        "id": "tssruJPMlugq"
      },
      "execution_count": null,
      "outputs": []
    }
  ]
}