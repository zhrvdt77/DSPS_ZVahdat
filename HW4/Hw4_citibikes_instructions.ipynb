{
  "nbformat": 4,
  "nbformat_minor": 0,
  "metadata": {
    "anaconda-cloud": {},
    "kernelspec": {
      "display_name": "Python 3",
      "name": "python3"
    },
    "language_info": {
      "name": "python"
    },
    "colab": {
      "provenance": [],
      "include_colab_link": true
    }
  },
  "cells": [
    {
      "cell_type": "markdown",
      "metadata": {
        "id": "view-in-github",
        "colab_type": "text"
      },
      "source": [
        "<a href=\"https://colab.research.google.com/github/zhrvdt77/DSPS_ZVahdat/blob/main/HW4/Hw4_citibikes_instructions.ipynb\" target=\"_parent\"><img src=\"https://colab.research.google.com/assets/colab-badge.svg\" alt=\"Open In Colab\"/></a>"
      ]
    },
    {
      "cell_type": "markdown",
      "metadata": {
        "id": "4aESq4aYc3Tw"
      },
      "source": [
        "# Written by Federica B. Bianco @fedhere\n",
        "# for UDel FDSfE 2022\n",
        "\n",
        "\n",
        "Citibikes is the shared bike services for NYC and they historically have done a great job at making their data public (while respecting people's privacy of course! well... almost always... https://www.wsj.com/articles/SB10001424127887323829104578624263439561672)\n",
        "\n",
        "-  The \"idea\" is that citi bikes, which are farily bulky bikes, may be designed in such a way that they are more comfortable for larger people, and therefore, on average, for men.  \n",
        "\n",
        "-  If the bikes are uncomfortable, the users will not use them for long trips. So to test that you can measure the trip duration for customers that are registered as male and customers that are registered as female and see (1) if they  have the same mean, and (2) if they are \"the same\" distribution (more precisely you will meausre if they come from the \"same parent distribution\").\n",
        "\n",
        "-  Choose the significance threshold\n",
        "\n",
        "-  Wrangle the data so that it is ready for your analysis.\n",
        "\n",
        "-  Explore the data statistical properties (mean, standard deviation...)\n",
        "\n",
        "-  Clearly state they Null and Alternate hypothesis for the first question\n",
        "\n",
        "-  Answer the first question with a t-test\n",
        "\n",
        "-  Clearly state they Null and Alternate hypothesis for the second question\n",
        "\n",
        "-  Answer the second question with a ks_2sample test\n",
        "\n",
        "\n",
        "-  Extra Credit: split the sample in week-days and weekends and redo the analysis for the week-days and weekend cases separately"
      ]
    },
    {
      "cell_type": "code",
      "metadata": {
        "scrolled": true,
        "id": "LEcE6IScc3Tx"
      },
      "source": [
        "import matplotlib.pyplot as plt\n",
        "import pandas as pd\n",
        "import numpy as np\n",
        "from scipy import stats"
      ],
      "execution_count": 1,
      "outputs": []
    },
    {
      "cell_type": "markdown",
      "metadata": {
        "id": "V-bKj0Xjc3T5"
      },
      "source": [
        "# IDEA:\n",
        " Citibike usage would be different by gender if the bikes are more comfrotable for people who are taller and with larger frames.\n",
        "\n",
        "Remember:\n",
        "### NULL HYPOTHESIS _H0_:\n",
        "You want to falsify it so make it the opposite of your idea\n",
        "\n",
        "\n",
        "### ALTERNATIVE HYPOTHESIS _HA_:\n",
        "This shoudl be the complement of the NULL, including everything that the NULL does not\n",
        "\n",
        "\n"
      ]
    },
    {
      "cell_type": "code",
      "source": [
        "pvalue = 0.05"
      ],
      "metadata": {
        "id": "O-ZZoG1GeqX_"
      },
      "execution_count": 2,
      "outputs": []
    },
    {
      "cell_type": "markdown",
      "metadata": {
        "id": "I-bfLntac3T7"
      },
      "source": [
        "# Data gathering\n",
        "Get a single month of data:  reading data from citibike csv file from May 2019\n",
        "\n",
        "\n",
        "\n",
        "read a csv file with pandas so that the content is stored in a \"DataFrame\"."
      ]
    },
    {
      "cell_type": "code",
      "metadata": {
        "id": "TLDKMJbyc3UL",
        "colab": {
          "base_uri": "https://localhost:8080/",
          "height": 745
        },
        "outputId": "4a713bda-fcba-4c07-b6b7-034ce7f749d8"
      },
      "source": [
        "datestring = '201905'\n",
        "cbMay19 = pd.read_csv(\"https://s3.amazonaws.com/tripdata/\"+ datestring + \"-citibike-tripdata.csv.zip\")\n",
        "cbMay19"
      ],
      "execution_count": 3,
      "outputs": [
        {
          "output_type": "execute_result",
          "data": {
            "text/plain": [
              "         tripduration                 starttime                  stoptime  \\\n",
              "0                 139  2019-05-01 00:00:01.9010  2019-05-01 00:02:21.5170   \n",
              "1                 754  2019-05-01 00:00:03.0210  2019-05-01 00:12:37.6920   \n",
              "2                2308  2019-05-01 00:00:04.6270  2019-05-01 00:38:33.1710   \n",
              "3                 143  2019-05-01 00:00:19.3340  2019-05-01 00:02:42.5200   \n",
              "4                 138  2019-05-01 00:00:22.1840  2019-05-01 00:02:40.6480   \n",
              "...               ...                       ...                       ...   \n",
              "1924558           304  2019-05-31 23:59:45.5760  2019-06-01 00:04:50.4620   \n",
              "1924559           324  2019-05-31 23:59:46.4650  2019-06-01 00:05:11.1630   \n",
              "1924560          1926  2019-05-31 23:59:51.5060  2019-06-01 00:31:58.3920   \n",
              "1924561          2047  2019-05-31 23:59:52.4170  2019-06-01 00:34:00.1970   \n",
              "1924562           964  2019-05-31 23:59:55.5500  2019-06-01 00:15:59.8680   \n",
              "\n",
              "         start station id         start station name  start station latitude  \\\n",
              "0                     447            8 Ave & W 52 St               40.763707   \n",
              "1                    3258           W 27 St & 10 Ave               40.750182   \n",
              "2                    3093       N 6 St & Bedford Ave               40.717452   \n",
              "3                    3486  Schermerhorn St & Bond St               40.688417   \n",
              "4                     388           W 26 St & 10 Ave               40.749718   \n",
              "...                   ...                        ...                     ...   \n",
              "1924558              3175    W 70 St & Amsterdam Ave               40.777480   \n",
              "1924559              2003            1 Ave & E 18 St               40.733812   \n",
              "1924560               146       Hudson St & Reade St               40.716250   \n",
              "1924561              3658            W 18 St & 9 Ave               40.743534   \n",
              "1924562               285         Broadway & E 14 St               40.734546   \n",
              "\n",
              "         start station longitude  end station id            end station name  \\\n",
              "0                     -73.985162             423             W 54 St & 9 Ave   \n",
              "1                     -74.002184            3255             8 Ave & W 31 St   \n",
              "2                     -73.958509            3676  Van Brunt St & Van Dyke St   \n",
              "3                     -73.984517            3412      Pacific St & Nevins St   \n",
              "4                     -74.002950             494             W 26 St & 8 Ave   \n",
              "...                          ...             ...                         ...   \n",
              "1924558               -73.982886             423             W 54 St & 9 Ave   \n",
              "1924559               -73.980544             536             1 Ave & E 30 St   \n",
              "1924560               -74.009106             422            W 59 St & 10 Ave   \n",
              "1924561               -74.003676            2008       Little West St & 1 Pl   \n",
              "1924562               -73.990741            3656           E 2 St & Avenue A   \n",
              "\n",
              "         end station latitude  end station longitude  bikeid    usertype  \\\n",
              "0                   40.765849             -73.986905   31170  Subscriber   \n",
              "1                   40.750585             -73.994685   25560    Customer   \n",
              "2                   40.675833             -74.014726   33369  Subscriber   \n",
              "3                   40.685376             -73.983021   32041  Subscriber   \n",
              "4                   40.747348             -73.997236   35237  Subscriber   \n",
              "...                       ...                    ...     ...         ...   \n",
              "1924558             40.765849             -73.986905   32285  Subscriber   \n",
              "1924559             40.741444             -73.975361   33874  Subscriber   \n",
              "1924560             40.770513             -73.988038   33395  Subscriber   \n",
              "1924561             40.705693             -74.016777   27624  Subscriber   \n",
              "1924562             40.723077             -73.985836   32565  Subscriber   \n",
              "\n",
              "         birth year  gender  \n",
              "0              1983       1  \n",
              "1              1969       0  \n",
              "2              1978       1  \n",
              "3              1997       1  \n",
              "4              1967       1  \n",
              "...             ...     ...  \n",
              "1924558        1987       2  \n",
              "1924559        1994       2  \n",
              "1924560        1985       1  \n",
              "1924561        1987       0  \n",
              "1924562        1992       2  \n",
              "\n",
              "[1924563 rows x 15 columns]"
            ],
            "text/html": [
              "\n",
              "  <div id=\"df-80722cf8-f705-4449-b765-1e50a7d22495\" class=\"colab-df-container\">\n",
              "    <div>\n",
              "<style scoped>\n",
              "    .dataframe tbody tr th:only-of-type {\n",
              "        vertical-align: middle;\n",
              "    }\n",
              "\n",
              "    .dataframe tbody tr th {\n",
              "        vertical-align: top;\n",
              "    }\n",
              "\n",
              "    .dataframe thead th {\n",
              "        text-align: right;\n",
              "    }\n",
              "</style>\n",
              "<table border=\"1\" class=\"dataframe\">\n",
              "  <thead>\n",
              "    <tr style=\"text-align: right;\">\n",
              "      <th></th>\n",
              "      <th>tripduration</th>\n",
              "      <th>starttime</th>\n",
              "      <th>stoptime</th>\n",
              "      <th>start station id</th>\n",
              "      <th>start station name</th>\n",
              "      <th>start station latitude</th>\n",
              "      <th>start station longitude</th>\n",
              "      <th>end station id</th>\n",
              "      <th>end station name</th>\n",
              "      <th>end station latitude</th>\n",
              "      <th>end station longitude</th>\n",
              "      <th>bikeid</th>\n",
              "      <th>usertype</th>\n",
              "      <th>birth year</th>\n",
              "      <th>gender</th>\n",
              "    </tr>\n",
              "  </thead>\n",
              "  <tbody>\n",
              "    <tr>\n",
              "      <th>0</th>\n",
              "      <td>139</td>\n",
              "      <td>2019-05-01 00:00:01.9010</td>\n",
              "      <td>2019-05-01 00:02:21.5170</td>\n",
              "      <td>447</td>\n",
              "      <td>8 Ave &amp; W 52 St</td>\n",
              "      <td>40.763707</td>\n",
              "      <td>-73.985162</td>\n",
              "      <td>423</td>\n",
              "      <td>W 54 St &amp; 9 Ave</td>\n",
              "      <td>40.765849</td>\n",
              "      <td>-73.986905</td>\n",
              "      <td>31170</td>\n",
              "      <td>Subscriber</td>\n",
              "      <td>1983</td>\n",
              "      <td>1</td>\n",
              "    </tr>\n",
              "    <tr>\n",
              "      <th>1</th>\n",
              "      <td>754</td>\n",
              "      <td>2019-05-01 00:00:03.0210</td>\n",
              "      <td>2019-05-01 00:12:37.6920</td>\n",
              "      <td>3258</td>\n",
              "      <td>W 27 St &amp; 10 Ave</td>\n",
              "      <td>40.750182</td>\n",
              "      <td>-74.002184</td>\n",
              "      <td>3255</td>\n",
              "      <td>8 Ave &amp; W 31 St</td>\n",
              "      <td>40.750585</td>\n",
              "      <td>-73.994685</td>\n",
              "      <td>25560</td>\n",
              "      <td>Customer</td>\n",
              "      <td>1969</td>\n",
              "      <td>0</td>\n",
              "    </tr>\n",
              "    <tr>\n",
              "      <th>2</th>\n",
              "      <td>2308</td>\n",
              "      <td>2019-05-01 00:00:04.6270</td>\n",
              "      <td>2019-05-01 00:38:33.1710</td>\n",
              "      <td>3093</td>\n",
              "      <td>N 6 St &amp; Bedford Ave</td>\n",
              "      <td>40.717452</td>\n",
              "      <td>-73.958509</td>\n",
              "      <td>3676</td>\n",
              "      <td>Van Brunt St &amp; Van Dyke St</td>\n",
              "      <td>40.675833</td>\n",
              "      <td>-74.014726</td>\n",
              "      <td>33369</td>\n",
              "      <td>Subscriber</td>\n",
              "      <td>1978</td>\n",
              "      <td>1</td>\n",
              "    </tr>\n",
              "    <tr>\n",
              "      <th>3</th>\n",
              "      <td>143</td>\n",
              "      <td>2019-05-01 00:00:19.3340</td>\n",
              "      <td>2019-05-01 00:02:42.5200</td>\n",
              "      <td>3486</td>\n",
              "      <td>Schermerhorn St &amp; Bond St</td>\n",
              "      <td>40.688417</td>\n",
              "      <td>-73.984517</td>\n",
              "      <td>3412</td>\n",
              "      <td>Pacific St &amp; Nevins St</td>\n",
              "      <td>40.685376</td>\n",
              "      <td>-73.983021</td>\n",
              "      <td>32041</td>\n",
              "      <td>Subscriber</td>\n",
              "      <td>1997</td>\n",
              "      <td>1</td>\n",
              "    </tr>\n",
              "    <tr>\n",
              "      <th>4</th>\n",
              "      <td>138</td>\n",
              "      <td>2019-05-01 00:00:22.1840</td>\n",
              "      <td>2019-05-01 00:02:40.6480</td>\n",
              "      <td>388</td>\n",
              "      <td>W 26 St &amp; 10 Ave</td>\n",
              "      <td>40.749718</td>\n",
              "      <td>-74.002950</td>\n",
              "      <td>494</td>\n",
              "      <td>W 26 St &amp; 8 Ave</td>\n",
              "      <td>40.747348</td>\n",
              "      <td>-73.997236</td>\n",
              "      <td>35237</td>\n",
              "      <td>Subscriber</td>\n",
              "      <td>1967</td>\n",
              "      <td>1</td>\n",
              "    </tr>\n",
              "    <tr>\n",
              "      <th>...</th>\n",
              "      <td>...</td>\n",
              "      <td>...</td>\n",
              "      <td>...</td>\n",
              "      <td>...</td>\n",
              "      <td>...</td>\n",
              "      <td>...</td>\n",
              "      <td>...</td>\n",
              "      <td>...</td>\n",
              "      <td>...</td>\n",
              "      <td>...</td>\n",
              "      <td>...</td>\n",
              "      <td>...</td>\n",
              "      <td>...</td>\n",
              "      <td>...</td>\n",
              "      <td>...</td>\n",
              "    </tr>\n",
              "    <tr>\n",
              "      <th>1924558</th>\n",
              "      <td>304</td>\n",
              "      <td>2019-05-31 23:59:45.5760</td>\n",
              "      <td>2019-06-01 00:04:50.4620</td>\n",
              "      <td>3175</td>\n",
              "      <td>W 70 St &amp; Amsterdam Ave</td>\n",
              "      <td>40.777480</td>\n",
              "      <td>-73.982886</td>\n",
              "      <td>423</td>\n",
              "      <td>W 54 St &amp; 9 Ave</td>\n",
              "      <td>40.765849</td>\n",
              "      <td>-73.986905</td>\n",
              "      <td>32285</td>\n",
              "      <td>Subscriber</td>\n",
              "      <td>1987</td>\n",
              "      <td>2</td>\n",
              "    </tr>\n",
              "    <tr>\n",
              "      <th>1924559</th>\n",
              "      <td>324</td>\n",
              "      <td>2019-05-31 23:59:46.4650</td>\n",
              "      <td>2019-06-01 00:05:11.1630</td>\n",
              "      <td>2003</td>\n",
              "      <td>1 Ave &amp; E 18 St</td>\n",
              "      <td>40.733812</td>\n",
              "      <td>-73.980544</td>\n",
              "      <td>536</td>\n",
              "      <td>1 Ave &amp; E 30 St</td>\n",
              "      <td>40.741444</td>\n",
              "      <td>-73.975361</td>\n",
              "      <td>33874</td>\n",
              "      <td>Subscriber</td>\n",
              "      <td>1994</td>\n",
              "      <td>2</td>\n",
              "    </tr>\n",
              "    <tr>\n",
              "      <th>1924560</th>\n",
              "      <td>1926</td>\n",
              "      <td>2019-05-31 23:59:51.5060</td>\n",
              "      <td>2019-06-01 00:31:58.3920</td>\n",
              "      <td>146</td>\n",
              "      <td>Hudson St &amp; Reade St</td>\n",
              "      <td>40.716250</td>\n",
              "      <td>-74.009106</td>\n",
              "      <td>422</td>\n",
              "      <td>W 59 St &amp; 10 Ave</td>\n",
              "      <td>40.770513</td>\n",
              "      <td>-73.988038</td>\n",
              "      <td>33395</td>\n",
              "      <td>Subscriber</td>\n",
              "      <td>1985</td>\n",
              "      <td>1</td>\n",
              "    </tr>\n",
              "    <tr>\n",
              "      <th>1924561</th>\n",
              "      <td>2047</td>\n",
              "      <td>2019-05-31 23:59:52.4170</td>\n",
              "      <td>2019-06-01 00:34:00.1970</td>\n",
              "      <td>3658</td>\n",
              "      <td>W 18 St &amp; 9 Ave</td>\n",
              "      <td>40.743534</td>\n",
              "      <td>-74.003676</td>\n",
              "      <td>2008</td>\n",
              "      <td>Little West St &amp; 1 Pl</td>\n",
              "      <td>40.705693</td>\n",
              "      <td>-74.016777</td>\n",
              "      <td>27624</td>\n",
              "      <td>Subscriber</td>\n",
              "      <td>1987</td>\n",
              "      <td>0</td>\n",
              "    </tr>\n",
              "    <tr>\n",
              "      <th>1924562</th>\n",
              "      <td>964</td>\n",
              "      <td>2019-05-31 23:59:55.5500</td>\n",
              "      <td>2019-06-01 00:15:59.8680</td>\n",
              "      <td>285</td>\n",
              "      <td>Broadway &amp; E 14 St</td>\n",
              "      <td>40.734546</td>\n",
              "      <td>-73.990741</td>\n",
              "      <td>3656</td>\n",
              "      <td>E 2 St &amp; Avenue A</td>\n",
              "      <td>40.723077</td>\n",
              "      <td>-73.985836</td>\n",
              "      <td>32565</td>\n",
              "      <td>Subscriber</td>\n",
              "      <td>1992</td>\n",
              "      <td>2</td>\n",
              "    </tr>\n",
              "  </tbody>\n",
              "</table>\n",
              "<p>1924563 rows × 15 columns</p>\n",
              "</div>\n",
              "    <div class=\"colab-df-buttons\">\n",
              "\n",
              "  <div class=\"colab-df-container\">\n",
              "    <button class=\"colab-df-convert\" onclick=\"convertToInteractive('df-80722cf8-f705-4449-b765-1e50a7d22495')\"\n",
              "            title=\"Convert this dataframe to an interactive table.\"\n",
              "            style=\"display:none;\">\n",
              "\n",
              "  <svg xmlns=\"http://www.w3.org/2000/svg\" height=\"24px\" viewBox=\"0 -960 960 960\">\n",
              "    <path d=\"M120-120v-720h720v720H120Zm60-500h600v-160H180v160Zm220 220h160v-160H400v160Zm0 220h160v-160H400v160ZM180-400h160v-160H180v160Zm440 0h160v-160H620v160ZM180-180h160v-160H180v160Zm440 0h160v-160H620v160Z\"/>\n",
              "  </svg>\n",
              "    </button>\n",
              "\n",
              "  <style>\n",
              "    .colab-df-container {\n",
              "      display:flex;\n",
              "      gap: 12px;\n",
              "    }\n",
              "\n",
              "    .colab-df-convert {\n",
              "      background-color: #E8F0FE;\n",
              "      border: none;\n",
              "      border-radius: 50%;\n",
              "      cursor: pointer;\n",
              "      display: none;\n",
              "      fill: #1967D2;\n",
              "      height: 32px;\n",
              "      padding: 0 0 0 0;\n",
              "      width: 32px;\n",
              "    }\n",
              "\n",
              "    .colab-df-convert:hover {\n",
              "      background-color: #E2EBFA;\n",
              "      box-shadow: 0px 1px 2px rgba(60, 64, 67, 0.3), 0px 1px 3px 1px rgba(60, 64, 67, 0.15);\n",
              "      fill: #174EA6;\n",
              "    }\n",
              "\n",
              "    .colab-df-buttons div {\n",
              "      margin-bottom: 4px;\n",
              "    }\n",
              "\n",
              "    [theme=dark] .colab-df-convert {\n",
              "      background-color: #3B4455;\n",
              "      fill: #D2E3FC;\n",
              "    }\n",
              "\n",
              "    [theme=dark] .colab-df-convert:hover {\n",
              "      background-color: #434B5C;\n",
              "      box-shadow: 0px 1px 3px 1px rgba(0, 0, 0, 0.15);\n",
              "      filter: drop-shadow(0px 1px 2px rgba(0, 0, 0, 0.3));\n",
              "      fill: #FFFFFF;\n",
              "    }\n",
              "  </style>\n",
              "\n",
              "    <script>\n",
              "      const buttonEl =\n",
              "        document.querySelector('#df-80722cf8-f705-4449-b765-1e50a7d22495 button.colab-df-convert');\n",
              "      buttonEl.style.display =\n",
              "        google.colab.kernel.accessAllowed ? 'block' : 'none';\n",
              "\n",
              "      async function convertToInteractive(key) {\n",
              "        const element = document.querySelector('#df-80722cf8-f705-4449-b765-1e50a7d22495');\n",
              "        const dataTable =\n",
              "          await google.colab.kernel.invokeFunction('convertToInteractive',\n",
              "                                                    [key], {});\n",
              "        if (!dataTable) return;\n",
              "\n",
              "        const docLinkHtml = 'Like what you see? Visit the ' +\n",
              "          '<a target=\"_blank\" href=https://colab.research.google.com/notebooks/data_table.ipynb>data table notebook</a>'\n",
              "          + ' to learn more about interactive tables.';\n",
              "        element.innerHTML = '';\n",
              "        dataTable['output_type'] = 'display_data';\n",
              "        await google.colab.output.renderOutput(dataTable, element);\n",
              "        const docLink = document.createElement('div');\n",
              "        docLink.innerHTML = docLinkHtml;\n",
              "        element.appendChild(docLink);\n",
              "      }\n",
              "    </script>\n",
              "  </div>\n",
              "\n",
              "\n",
              "<div id=\"df-45debfe5-0439-4443-92b5-622bf76f1f52\">\n",
              "  <button class=\"colab-df-quickchart\" onclick=\"quickchart('df-45debfe5-0439-4443-92b5-622bf76f1f52')\"\n",
              "            title=\"Suggest charts.\"\n",
              "            style=\"display:none;\">\n",
              "\n",
              "<svg xmlns=\"http://www.w3.org/2000/svg\" height=\"24px\"viewBox=\"0 0 24 24\"\n",
              "     width=\"24px\">\n",
              "    <g>\n",
              "        <path d=\"M19 3H5c-1.1 0-2 .9-2 2v14c0 1.1.9 2 2 2h14c1.1 0 2-.9 2-2V5c0-1.1-.9-2-2-2zM9 17H7v-7h2v7zm4 0h-2V7h2v10zm4 0h-2v-4h2v4z\"/>\n",
              "    </g>\n",
              "</svg>\n",
              "  </button>\n",
              "\n",
              "<style>\n",
              "  .colab-df-quickchart {\n",
              "      --bg-color: #E8F0FE;\n",
              "      --fill-color: #1967D2;\n",
              "      --hover-bg-color: #E2EBFA;\n",
              "      --hover-fill-color: #174EA6;\n",
              "      --disabled-fill-color: #AAA;\n",
              "      --disabled-bg-color: #DDD;\n",
              "  }\n",
              "\n",
              "  [theme=dark] .colab-df-quickchart {\n",
              "      --bg-color: #3B4455;\n",
              "      --fill-color: #D2E3FC;\n",
              "      --hover-bg-color: #434B5C;\n",
              "      --hover-fill-color: #FFFFFF;\n",
              "      --disabled-bg-color: #3B4455;\n",
              "      --disabled-fill-color: #666;\n",
              "  }\n",
              "\n",
              "  .colab-df-quickchart {\n",
              "    background-color: var(--bg-color);\n",
              "    border: none;\n",
              "    border-radius: 50%;\n",
              "    cursor: pointer;\n",
              "    display: none;\n",
              "    fill: var(--fill-color);\n",
              "    height: 32px;\n",
              "    padding: 0;\n",
              "    width: 32px;\n",
              "  }\n",
              "\n",
              "  .colab-df-quickchart:hover {\n",
              "    background-color: var(--hover-bg-color);\n",
              "    box-shadow: 0 1px 2px rgba(60, 64, 67, 0.3), 0 1px 3px 1px rgba(60, 64, 67, 0.15);\n",
              "    fill: var(--button-hover-fill-color);\n",
              "  }\n",
              "\n",
              "  .colab-df-quickchart-complete:disabled,\n",
              "  .colab-df-quickchart-complete:disabled:hover {\n",
              "    background-color: var(--disabled-bg-color);\n",
              "    fill: var(--disabled-fill-color);\n",
              "    box-shadow: none;\n",
              "  }\n",
              "\n",
              "  .colab-df-spinner {\n",
              "    border: 2px solid var(--fill-color);\n",
              "    border-color: transparent;\n",
              "    border-bottom-color: var(--fill-color);\n",
              "    animation:\n",
              "      spin 1s steps(1) infinite;\n",
              "  }\n",
              "\n",
              "  @keyframes spin {\n",
              "    0% {\n",
              "      border-color: transparent;\n",
              "      border-bottom-color: var(--fill-color);\n",
              "      border-left-color: var(--fill-color);\n",
              "    }\n",
              "    20% {\n",
              "      border-color: transparent;\n",
              "      border-left-color: var(--fill-color);\n",
              "      border-top-color: var(--fill-color);\n",
              "    }\n",
              "    30% {\n",
              "      border-color: transparent;\n",
              "      border-left-color: var(--fill-color);\n",
              "      border-top-color: var(--fill-color);\n",
              "      border-right-color: var(--fill-color);\n",
              "    }\n",
              "    40% {\n",
              "      border-color: transparent;\n",
              "      border-right-color: var(--fill-color);\n",
              "      border-top-color: var(--fill-color);\n",
              "    }\n",
              "    60% {\n",
              "      border-color: transparent;\n",
              "      border-right-color: var(--fill-color);\n",
              "    }\n",
              "    80% {\n",
              "      border-color: transparent;\n",
              "      border-right-color: var(--fill-color);\n",
              "      border-bottom-color: var(--fill-color);\n",
              "    }\n",
              "    90% {\n",
              "      border-color: transparent;\n",
              "      border-bottom-color: var(--fill-color);\n",
              "    }\n",
              "  }\n",
              "</style>\n",
              "\n",
              "  <script>\n",
              "    async function quickchart(key) {\n",
              "      const quickchartButtonEl =\n",
              "        document.querySelector('#' + key + ' button');\n",
              "      quickchartButtonEl.disabled = true;  // To prevent multiple clicks.\n",
              "      quickchartButtonEl.classList.add('colab-df-spinner');\n",
              "      try {\n",
              "        const charts = await google.colab.kernel.invokeFunction(\n",
              "            'suggestCharts', [key], {});\n",
              "      } catch (error) {\n",
              "        console.error('Error during call to suggestCharts:', error);\n",
              "      }\n",
              "      quickchartButtonEl.classList.remove('colab-df-spinner');\n",
              "      quickchartButtonEl.classList.add('colab-df-quickchart-complete');\n",
              "    }\n",
              "    (() => {\n",
              "      let quickchartButtonEl =\n",
              "        document.querySelector('#df-45debfe5-0439-4443-92b5-622bf76f1f52 button');\n",
              "      quickchartButtonEl.style.display =\n",
              "        google.colab.kernel.accessAllowed ? 'block' : 'none';\n",
              "    })();\n",
              "  </script>\n",
              "</div>\n",
              "    </div>\n",
              "  </div>\n"
            ]
          },
          "metadata": {},
          "execution_count": 3
        }
      ]
    },
    {
      "cell_type": "markdown",
      "source": [
        "# Data Exploration\n",
        "\n",
        "you know what to do!"
      ],
      "metadata": {
        "id": "c-Xh0btXc3UT"
      }
    },
    {
      "cell_type": "code",
      "source": [
        "cbMay19.columns"
      ],
      "metadata": {
        "id": "dqg07sA5fFXK",
        "colab": {
          "base_uri": "https://localhost:8080/"
        },
        "outputId": "2a7394f7-d70e-40d5-b9a4-b392323cb9ac"
      },
      "execution_count": 6,
      "outputs": [
        {
          "output_type": "execute_result",
          "data": {
            "text/plain": [
              "Index(['tripduration', 'starttime', 'stoptime', 'start station id',\n",
              "       'start station name', 'start station latitude',\n",
              "       'start station longitude', 'end station id', 'end station name',\n",
              "       'end station latitude', 'end station longitude', 'bikeid', 'usertype',\n",
              "       'birth year', 'gender'],\n",
              "      dtype='object')"
            ]
          },
          "metadata": {},
          "execution_count": 6
        }
      ]
    },
    {
      "cell_type": "code",
      "source": [
        "len(cbMay19)"
      ],
      "metadata": {
        "colab": {
          "base_uri": "https://localhost:8080/"
        },
        "id": "Y8_tz0NyIExs",
        "outputId": "44945bca-564a-4f3c-f699-faf812a6b86e"
      },
      "execution_count": 7,
      "outputs": [
        {
          "output_type": "execute_result",
          "data": {
            "text/plain": [
              "1924563"
            ]
          },
          "metadata": {},
          "execution_count": 7
        }
      ]
    },
    {
      "cell_type": "code",
      "source": [],
      "metadata": {
        "id": "XjXnCb8vH-P9"
      },
      "execution_count": null,
      "outputs": []
    },
    {
      "cell_type": "markdown",
      "source": [
        "You hsould have noticed the column gender: its encoded as a binary - 1 is for customers that identified as male, 2 for customers that identified as female. 0 is for non-binary and not registered genders"
      ],
      "metadata": {
        "id": "CS3tzONafwg0"
      }
    },
    {
      "cell_type": "markdown",
      "source": [
        "Because your variable of interest is \"tripduration\" explore this variable in some more detail."
      ],
      "metadata": {
        "id": "VG0ywkiUBfXP"
      }
    },
    {
      "cell_type": "code",
      "source": [
        "cbMay19[\"tripduration\"]"
      ],
      "metadata": {
        "colab": {
          "base_uri": "https://localhost:8080/"
        },
        "id": "vejDYx-FIPNk",
        "outputId": "0f90767b-c899-43b9-daa2-089c495a42ad"
      },
      "execution_count": 8,
      "outputs": [
        {
          "output_type": "execute_result",
          "data": {
            "text/plain": [
              "0           139\n",
              "1           754\n",
              "2          2308\n",
              "3           143\n",
              "4           138\n",
              "           ... \n",
              "1924558     304\n",
              "1924559     324\n",
              "1924560    1926\n",
              "1924561    2047\n",
              "1924562     964\n",
              "Name: tripduration, Length: 1924563, dtype: int64"
            ]
          },
          "metadata": {},
          "execution_count": 8
        }
      ]
    },
    {
      "cell_type": "markdown",
      "source": [
        "## Plot the trip duration distribution\n",
        "\n",
        "hint: when I say plot the distribution generally that means make a histogram\n"
      ],
      "metadata": {
        "id": "w72NVQw1BlQT"
      }
    },
    {
      "cell_type": "code",
      "source": [
        "# your code here\n",
        "ax=cbMay19[\"tripduration\"].hist()\n",
        "ax.set_ylabel(\"number of trips\")\n",
        "ax.set_xlabel(\"trip duration in minutes\")\n"
      ],
      "metadata": {
        "colab": {
          "base_uri": "https://localhost:8080/",
          "height": 482
        },
        "id": "GWEkBNpeIX-u",
        "outputId": "9074a632-c05e-4656-a123-2a851a0fccd1"
      },
      "execution_count": 9,
      "outputs": [
        {
          "output_type": "execute_result",
          "data": {
            "text/plain": [
              "Text(0.5, 0, 'trip duration in minutes')"
            ]
          },
          "metadata": {},
          "execution_count": 9
        },
        {
          "output_type": "display_data",
          "data": {
            "text/plain": [
              "<Figure size 640x480 with 1 Axes>"
            ],
            "image/png": "[encoded data removed]"
          },
          "metadata": {}
        }
      ]
    },
    {
      "cell_type": "markdown",
      "source": [
        "*Figure* 1: The histogram of trip duration"
      ],
      "metadata": {
        "id": "k67tIw-hB9ea"
      }
    },
    {
      "cell_type": "markdown",
      "source": [
        "there are some really large numbers... trips that last >1000000 minutes...  clearly this is a data curation issue.\n",
        "\n",
        "You need to clean the data by removin all data for which tripduration > 1 day (remember the duration is in minutes) and remake the plot\n",
        "\n",
        "\n",
        "You can do it by setting the condition\n",
        "\n",
        "```cbMay19[\"tripduration\"] < ...```\n",
        "\n",
        "and using this condition as an index\n",
        "\n",
        "```cbMay19_clean = cbMay19[cbMay19[\"tripduration\"]....```\n",
        "\n",
        "Remake the histogram, now the sahape of the tripduration distribution should be much clearer"
      ],
      "metadata": {
        "id": "PJ05tSklhdtJ"
      }
    },
    {
      "cell_type": "code",
      "source": [
        "# your code here\n",
        "cbMay19_clean=cbMay19[cbMay19[\"tripduration\"]<(24*60)]"
      ],
      "metadata": {
        "id": "-kgSltXXCl6L"
      },
      "execution_count": 4,
      "outputs": []
    },
    {
      "cell_type": "code",
      "source": [
        "ax=cbMay19_clean[\"tripduration\"].hist()\n",
        "ax.set_ylabel(\"number of trips\")\n",
        "ax.set_xlabel(\"trip duration in minutes\")"
      ],
      "metadata": {
        "colab": {
          "base_uri": "https://localhost:8080/",
          "height": 466
        },
        "id": "z4E70bvMJ8nb",
        "outputId": "9e7fd22e-af85-438b-afbc-38addffb3e39"
      },
      "execution_count": 11,
      "outputs": [
        {
          "output_type": "execute_result",
          "data": {
            "text/plain": [
              "Text(0.5, 0, 'trip duration in minutes')"
            ]
          },
          "metadata": {},
          "execution_count": 11
        },
        {
          "output_type": "display_data",
          "data": {
            "text/plain": [
              "<Figure size 640x480 with 1 Axes>"
            ],
            "image/png": "[encoded data removed]"
          },
          "metadata": {}
        }
      ]
    },
    {
      "cell_type": "markdown",
      "source": [
        "Figure 2: The histogram of trip duration in minutes after filtering the trips that take more than a day"
      ],
      "metadata": {
        "id": "4CWrVbvFCnmJ"
      }
    },
    {
      "cell_type": "markdown",
      "metadata": {
        "id": "MNdxEpGHc3Uy"
      },
      "source": [
        "# Data Wrangling\n",
        "\n",
        "Split the data into two dataframes by gender\n",
        "save the data corresponding to \"gender\" == 1 and the data corresponding to \"gender\" == 2 into two separate dataframes. Again you can do it by setting a condition on the column ```[\"gender\"]```"
      ]
    },
    {
      "cell_type": "code",
      "source": [
        "data1=cbMay19_clean[cbMay19_clean[\"gender\"]==1]\n",
        "data2=cbMay19_clean[cbMay19_clean[\"gender\"]==2]\n"
      ],
      "metadata": {
        "id": "PQFl0umSgu4Z"
      },
      "execution_count": 5,
      "outputs": []
    },
    {
      "cell_type": "markdown",
      "source": [
        "## plot the trip duration distributions for gender=2 and gender=1\n",
        "\n"
      ],
      "metadata": {
        "id": "UOnTTHS7hQry"
      }
    },
    {
      "cell_type": "code",
      "source": [
        "# your code here\n",
        "fig, (ax1, ax2) = plt.subplots(1, 2)\n",
        "plt.subplots_adjust(left=0.1,\n",
        "                    bottom=0.1,\n",
        "                    right=0.9,\n",
        "                    top=0.9,\n",
        "                    wspace=0.4,\n",
        "                    hspace=0.4)\n",
        "fig.suptitle('number of trips splitted into two genders')\n",
        "#ax1.plot(x, y)\n",
        "#ax2.plot(x, -y)\n",
        "ax1.hist(data1[\"tripduration\"])\n",
        "ax1.set_ylabel(\"number of trips (Male)\")\n",
        "ax1.set_xlabel(\"trip duration in minutes\")\n",
        "ax2.hist(data2[\"tripduration\"])\n",
        "ax2.set_ylabel(\"number of trips (Female)\")\n",
        "ax2.set_xlabel(\"trip duration in minutes\")\n",
        "ax1.set_ylim([0,210000])\n",
        "ax2.set_ylim([0,210000])\n"
      ],
      "metadata": {
        "id": "opjwo2PQhUM3",
        "colab": {
          "base_uri": "https://localhost:8080/",
          "height": 519
        },
        "outputId": "f063a35c-07d4-4a04-d169-230606e3c301"
      },
      "execution_count": 21,
      "outputs": [
        {
          "output_type": "execute_result",
          "data": {
            "text/plain": [
              "(0.0, 210000.0)"
            ]
          },
          "metadata": {},
          "execution_count": 21
        },
        {
          "output_type": "display_data",
          "data": {
            "text/plain": [
              "<Figure size 640x480 with 2 Axes>"
            ],
            "image/png": "[encoded data removed]"
          },
          "metadata": {}
        }
      ]
    },
    {
      "cell_type": "markdown",
      "source": [
        "*Figure* 3: The histograms of the number of trips for each gender are shown. The number of trips are more for men than women."
      ],
      "metadata": {
        "id": "iKCrWQq0Dcs6"
      }
    },
    {
      "cell_type": "markdown",
      "source": [
        "Notice how the histograms are differnt hights: one of the two categories has a lot more trips than the other one. Figure out which and discuss it in the caption"
      ],
      "metadata": {
        "id": "vayb-uH1hbnc"
      }
    },
    {
      "cell_type": "markdown",
      "source": [
        "# Statistical analysis\n",
        "Run two statistical tests: the t-test and the KS-test.\n"
      ],
      "metadata": {
        "id": "4AA7Qgp02wLa"
      }
    },
    {
      "cell_type": "markdown",
      "source": [
        "# Check if the mean of the samples is the same\n",
        "\n",
        "Your Null hypothesis _H0_ and Alternative hypotehsis _HA_ are respectively:\n",
        "\n",
        "H0: µ1 = µ2 (the two sample means are equal)\n",
        "\n",
        "HA: µ1 ≠µ2 (the two sample means are not equal)\n",
        "\n",
        "First look at the data summary statistics: are the means the same number? are the means contained within each other's standard deviations --- i.e. is\n",
        "\n",
        "_mean1 > mean2 - std2 and mean1 < mean2 + std2_\n",
        "\n",
        "or\n",
        "\n",
        "_mean2 > mean1 - std1 and mean2 < mean1 + std1_\n",
        "\n",
        "this will set some expextation.\n",
        "\n",
        "\n",
        "\n"
      ],
      "metadata": {
        "id": "-NL1cHQD3ccc"
      }
    },
    {
      "cell_type": "markdown",
      "source": [
        "H0: The trip duration for men is equal to the trip duration for women.\\\n",
        "HA: The trip duration for men is notequal to the trip duration for women.\n"
      ],
      "metadata": {
        "id": "maS9Dljh0V5o"
      }
    },
    {
      "cell_type": "code",
      "source": [
        "data1.describe()"
      ],
      "metadata": {
        "colab": {
          "base_uri": "https://localhost:8080/",
          "height": 351
        },
        "id": "uuB8k_Ddu_ex",
        "outputId": "4a291ba5-947c-4e44-b270-6dd25dee2c74"
      },
      "execution_count": 22,
      "outputs": [
        {
          "output_type": "execute_result",
          "data": {
            "text/plain": [
              "       tripduration  start station id  start station latitude  \\\n",
              "count  1.121342e+06      1.121342e+06            1.121342e+06   \n",
              "mean   5.882071e+02      1.601038e+03            4.073751e+01   \n",
              "std    3.350298e+02      1.464205e+03            2.899530e-02   \n",
              "min    6.100000e+01      7.200000e+01            4.065540e+01   \n",
              "25%    3.210000e+02      3.790000e+02            4.071912e+01   \n",
              "50%    5.140000e+02      5.040000e+02            4.073913e+01   \n",
              "75%    8.050000e+02      3.263000e+03            4.075641e+01   \n",
              "max    1.439000e+03      3.790000e+03            4.081439e+01   \n",
              "\n",
              "       start station longitude  end station id  end station latitude  \\\n",
              "count             1.121342e+06    1.121342e+06          1.121342e+06   \n",
              "mean             -7.398267e+01    1.591726e+03          4.073735e+01   \n",
              "std               1.904252e-02    1.462975e+03          2.882275e-02   \n",
              "min              -7.402535e+01    7.200000e+01          4.065540e+01   \n",
              "25%              -7.399490e+01    3.790000e+02          4.071911e+01   \n",
              "50%              -7.398602e+01    5.030000e+02          4.073902e+01   \n",
              "75%              -7.397371e+01    3.260000e+03          4.075601e+01   \n",
              "max              -7.390774e+01    3.790000e+03          4.081439e+01   \n",
              "\n",
              "       end station longitude        bikeid    birth year     gender  \n",
              "count           1.121342e+06  1.121342e+06  1.121342e+06  1121342.0  \n",
              "mean           -7.398288e+01  2.738294e+04  1.980387e+03        1.0  \n",
              "std             1.912914e-02  6.284383e+03  1.204244e+01        0.0  \n",
              "min            -7.403346e+01  1.452900e+04  1.885000e+03        1.0  \n",
              "25%            -7.399530e+01  2.126600e+04  1.972000e+03        1.0  \n",
              "50%            -7.398650e+01  2.900400e+04  1.983000e+03        1.0  \n",
              "75%            -7.397375e+01  3.262600e+04  1.990000e+03        1.0  \n",
              "max            -7.390774e+01  3.799800e+04  2.003000e+03        1.0  "
            ],
            "text/html": [
              "\n",
              "  <div id=\"df-9bb975de-810d-464e-8b88-6f2dc5ac7d7a\" class=\"colab-df-container\">\n",
              "    <div>\n",
              "<style scoped>\n",
              "    .dataframe tbody tr th:only-of-type {\n",
              "        vertical-align: middle;\n",
              "    }\n",
              "\n",
              "    .dataframe tbody tr th {\n",
              "        vertical-align: top;\n",
              "    }\n",
              "\n",
              "    .dataframe thead th {\n",
              "        text-align: right;\n",
              "    }\n",
              "</style>\n",
              "<table border=\"1\" class=\"dataframe\">\n",
              "  <thead>\n",
              "    <tr style=\"text-align: right;\">\n",
              "      <th></th>\n",
              "      <th>tripduration</th>\n",
              "      <th>start station id</th>\n",
              "      <th>start station latitude</th>\n",
              "      <th>start station longitude</th>\n",
              "      <th>end station id</th>\n",
              "      <th>end station latitude</th>\n",
              "      <th>end station longitude</th>\n",
              "      <th>bikeid</th>\n",
              "      <th>birth year</th>\n",
              "      <th>gender</th>\n",
              "    </tr>\n",
              "  </thead>\n",
              "  <tbody>\n",
              "    <tr>\n",
              "      <th>count</th>\n",
              "      <td>1.121342e+06</td>\n",
              "      <td>1.121342e+06</td>\n",
              "      <td>1.121342e+06</td>\n",
              "      <td>1.121342e+06</td>\n",
              "      <td>1.121342e+06</td>\n",
              "      <td>1.121342e+06</td>\n",
              "      <td>1.121342e+06</td>\n",
              "      <td>1.121342e+06</td>\n",
              "      <td>1.121342e+06</td>\n",
              "      <td>1121342.0</td>\n",
              "    </tr>\n",
              "    <tr>\n",
              "      <th>mean</th>\n",
              "      <td>5.882071e+02</td>\n",
              "      <td>1.601038e+03</td>\n",
              "      <td>4.073751e+01</td>\n",
              "      <td>-7.398267e+01</td>\n",
              "      <td>1.591726e+03</td>\n",
              "      <td>4.073735e+01</td>\n",
              "      <td>-7.398288e+01</td>\n",
              "      <td>2.738294e+04</td>\n",
              "      <td>1.980387e+03</td>\n",
              "      <td>1.0</td>\n",
              "    </tr>\n",
              "    <tr>\n",
              "      <th>std</th>\n",
              "      <td>3.350298e+02</td>\n",
              "      <td>1.464205e+03</td>\n",
              "      <td>2.899530e-02</td>\n",
              "      <td>1.904252e-02</td>\n",
              "      <td>1.462975e+03</td>\n",
              "      <td>2.882275e-02</td>\n",
              "      <td>1.912914e-02</td>\n",
              "      <td>6.284383e+03</td>\n",
              "      <td>1.204244e+01</td>\n",
              "      <td>0.0</td>\n",
              "    </tr>\n",
              "    <tr>\n",
              "      <th>min</th>\n",
              "      <td>6.100000e+01</td>\n",
              "      <td>7.200000e+01</td>\n",
              "      <td>4.065540e+01</td>\n",
              "      <td>-7.402535e+01</td>\n",
              "      <td>7.200000e+01</td>\n",
              "      <td>4.065540e+01</td>\n",
              "      <td>-7.403346e+01</td>\n",
              "      <td>1.452900e+04</td>\n",
              "      <td>1.885000e+03</td>\n",
              "      <td>1.0</td>\n",
              "    </tr>\n",
              "    <tr>\n",
              "      <th>25%</th>\n",
              "      <td>3.210000e+02</td>\n",
              "      <td>3.790000e+02</td>\n",
              "      <td>4.071912e+01</td>\n",
              "      <td>-7.399490e+01</td>\n",
              "      <td>3.790000e+02</td>\n",
              "      <td>4.071911e+01</td>\n",
              "      <td>-7.399530e+01</td>\n",
              "      <td>2.126600e+04</td>\n",
              "      <td>1.972000e+03</td>\n",
              "      <td>1.0</td>\n",
              "    </tr>\n",
              "    <tr>\n",
              "      <th>50%</th>\n",
              "      <td>5.140000e+02</td>\n",
              "      <td>5.040000e+02</td>\n",
              "      <td>4.073913e+01</td>\n",
              "      <td>-7.398602e+01</td>\n",
              "      <td>5.030000e+02</td>\n",
              "      <td>4.073902e+01</td>\n",
              "      <td>-7.398650e+01</td>\n",
              "      <td>2.900400e+04</td>\n",
              "      <td>1.983000e+03</td>\n",
              "      <td>1.0</td>\n",
              "    </tr>\n",
              "    <tr>\n",
              "      <th>75%</th>\n",
              "      <td>8.050000e+02</td>\n",
              "      <td>3.263000e+03</td>\n",
              "      <td>4.075641e+01</td>\n",
              "      <td>-7.397371e+01</td>\n",
              "      <td>3.260000e+03</td>\n",
              "      <td>4.075601e+01</td>\n",
              "      <td>-7.397375e+01</td>\n",
              "      <td>3.262600e+04</td>\n",
              "      <td>1.990000e+03</td>\n",
              "      <td>1.0</td>\n",
              "    </tr>\n",
              "    <tr>\n",
              "      <th>max</th>\n",
              "      <td>1.439000e+03</td>\n",
              "      <td>3.790000e+03</td>\n",
              "      <td>4.081439e+01</td>\n",
              "      <td>-7.390774e+01</td>\n",
              "      <td>3.790000e+03</td>\n",
              "      <td>4.081439e+01</td>\n",
              "      <td>-7.390774e+01</td>\n",
              "      <td>3.799800e+04</td>\n",
              "      <td>2.003000e+03</td>\n",
              "      <td>1.0</td>\n",
              "    </tr>\n",
              "  </tbody>\n",
              "</table>\n",
              "</div>\n",
              "    <div class=\"colab-df-buttons\">\n",
              "\n",
              "  <div class=\"colab-df-container\">\n",
              "    <button class=\"colab-df-convert\" onclick=\"convertToInteractive('df-9bb975de-810d-464e-8b88-6f2dc5ac7d7a')\"\n",
              "            title=\"Convert this dataframe to an interactive table.\"\n",
              "            style=\"display:none;\">\n",
              "\n",
              "  <svg xmlns=\"http://www.w3.org/2000/svg\" height=\"24px\" viewBox=\"0 -960 960 960\">\n",
              "    <path d=\"M120-120v-720h720v720H120Zm60-500h600v-160H180v160Zm220 220h160v-160H400v160Zm0 220h160v-160H400v160ZM180-400h160v-160H180v160Zm440 0h160v-160H620v160ZM180-180h160v-160H180v160Zm440 0h160v-160H620v160Z\"/>\n",
              "  </svg>\n",
              "    </button>\n",
              "\n",
              "  <style>\n",
              "    .colab-df-container {\n",
              "      display:flex;\n",
              "      gap: 12px;\n",
              "    }\n",
              "\n",
              "    .colab-df-convert {\n",
              "      background-color: #E8F0FE;\n",
              "      border: none;\n",
              "      border-radius: 50%;\n",
              "      cursor: pointer;\n",
              "      display: none;\n",
              "      fill: #1967D2;\n",
              "      height: 32px;\n",
              "      padding: 0 0 0 0;\n",
              "      width: 32px;\n",
              "    }\n",
              "\n",
              "    .colab-df-convert:hover {\n",
              "      background-color: #E2EBFA;\n",
              "      box-shadow: 0px 1px 2px rgba(60, 64, 67, 0.3), 0px 1px 3px 1px rgba(60, 64, 67, 0.15);\n",
              "      fill: #174EA6;\n",
              "    }\n",
              "\n",
              "    .colab-df-buttons div {\n",
              "      margin-bottom: 4px;\n",
              "    }\n",
              "\n",
              "    [theme=dark] .colab-df-convert {\n",
              "      background-color: #3B4455;\n",
              "      fill: #D2E3FC;\n",
              "    }\n",
              "\n",
              "    [theme=dark] .colab-df-convert:hover {\n",
              "      background-color: #434B5C;\n",
              "      box-shadow: 0px 1px 3px 1px rgba(0, 0, 0, 0.15);\n",
              "      filter: drop-shadow(0px 1px 2px rgba(0, 0, 0, 0.3));\n",
              "      fill: #FFFFFF;\n",
              "    }\n",
              "  </style>\n",
              "\n",
              "    <script>\n",
              "      const buttonEl =\n",
              "        document.querySelector('#df-9bb975de-810d-464e-8b88-6f2dc5ac7d7a button.colab-df-convert');\n",
              "      buttonEl.style.display =\n",
              "        google.colab.kernel.accessAllowed ? 'block' : 'none';\n",
              "\n",
              "      async function convertToInteractive(key) {\n",
              "        const element = document.querySelector('#df-9bb975de-810d-464e-8b88-6f2dc5ac7d7a');\n",
              "        const dataTable =\n",
              "          await google.colab.kernel.invokeFunction('convertToInteractive',\n",
              "                                                    [key], {});\n",
              "        if (!dataTable) return;\n",
              "\n",
              "        const docLinkHtml = 'Like what you see? Visit the ' +\n",
              "          '<a target=\"_blank\" href=https://colab.research.google.com/notebooks/data_table.ipynb>data table notebook</a>'\n",
              "          + ' to learn more about interactive tables.';\n",
              "        element.innerHTML = '';\n",
              "        dataTable['output_type'] = 'display_data';\n",
              "        await google.colab.output.renderOutput(dataTable, element);\n",
              "        const docLink = document.createElement('div');\n",
              "        docLink.innerHTML = docLinkHtml;\n",
              "        element.appendChild(docLink);\n",
              "      }\n",
              "    </script>\n",
              "  </div>\n",
              "\n",
              "\n",
              "<div id=\"df-380ad5fd-3181-4dfe-8359-e3c7a5705ff6\">\n",
              "  <button class=\"colab-df-quickchart\" onclick=\"quickchart('df-380ad5fd-3181-4dfe-8359-e3c7a5705ff6')\"\n",
              "            title=\"Suggest charts.\"\n",
              "            style=\"display:none;\">\n",
              "\n",
              "<svg xmlns=\"http://www.w3.org/2000/svg\" height=\"24px\"viewBox=\"0 0 24 24\"\n",
              "     width=\"24px\">\n",
              "    <g>\n",
              "        <path d=\"M19 3H5c-1.1 0-2 .9-2 2v14c0 1.1.9 2 2 2h14c1.1 0 2-.9 2-2V5c0-1.1-.9-2-2-2zM9 17H7v-7h2v7zm4 0h-2V7h2v10zm4 0h-2v-4h2v4z\"/>\n",
              "    </g>\n",
              "</svg>\n",
              "  </button>\n",
              "\n",
              "<style>\n",
              "  .colab-df-quickchart {\n",
              "      --bg-color: #E8F0FE;\n",
              "      --fill-color: #1967D2;\n",
              "      --hover-bg-color: #E2EBFA;\n",
              "      --hover-fill-color: #174EA6;\n",
              "      --disabled-fill-color: #AAA;\n",
              "      --disabled-bg-color: #DDD;\n",
              "  }\n",
              "\n",
              "  [theme=dark] .colab-df-quickchart {\n",
              "      --bg-color: #3B4455;\n",
              "      --fill-color: #D2E3FC;\n",
              "      --hover-bg-color: #434B5C;\n",
              "      --hover-fill-color: #FFFFFF;\n",
              "      --disabled-bg-color: #3B4455;\n",
              "      --disabled-fill-color: #666;\n",
              "  }\n",
              "\n",
              "  .colab-df-quickchart {\n",
              "    background-color: var(--bg-color);\n",
              "    border: none;\n",
              "    border-radius: 50%;\n",
              "    cursor: pointer;\n",
              "    display: none;\n",
              "    fill: var(--fill-color);\n",
              "    height: 32px;\n",
              "    padding: 0;\n",
              "    width: 32px;\n",
              "  }\n",
              "\n",
              "  .colab-df-quickchart:hover {\n",
              "    background-color: var(--hover-bg-color);\n",
              "    box-shadow: 0 1px 2px rgba(60, 64, 67, 0.3), 0 1px 3px 1px rgba(60, 64, 67, 0.15);\n",
              "    fill: var(--button-hover-fill-color);\n",
              "  }\n",
              "\n",
              "  .colab-df-quickchart-complete:disabled,\n",
              "  .colab-df-quickchart-complete:disabled:hover {\n",
              "    background-color: var(--disabled-bg-color);\n",
              "    fill: var(--disabled-fill-color);\n",
              "    box-shadow: none;\n",
              "  }\n",
              "\n",
              "  .colab-df-spinner {\n",
              "    border: 2px solid var(--fill-color);\n",
              "    border-color: transparent;\n",
              "    border-bottom-color: var(--fill-color);\n",
              "    animation:\n",
              "      spin 1s steps(1) infinite;\n",
              "  }\n",
              "\n",
              "  @keyframes spin {\n",
              "    0% {\n",
              "      border-color: transparent;\n",
              "      border-bottom-color: var(--fill-color);\n",
              "      border-left-color: var(--fill-color);\n",
              "    }\n",
              "    20% {\n",
              "      border-color: transparent;\n",
              "      border-left-color: var(--fill-color);\n",
              "      border-top-color: var(--fill-color);\n",
              "    }\n",
              "    30% {\n",
              "      border-color: transparent;\n",
              "      border-left-color: var(--fill-color);\n",
              "      border-top-color: var(--fill-color);\n",
              "      border-right-color: var(--fill-color);\n",
              "    }\n",
              "    40% {\n",
              "      border-color: transparent;\n",
              "      border-right-color: var(--fill-color);\n",
              "      border-top-color: var(--fill-color);\n",
              "    }\n",
              "    60% {\n",
              "      border-color: transparent;\n",
              "      border-right-color: var(--fill-color);\n",
              "    }\n",
              "    80% {\n",
              "      border-color: transparent;\n",
              "      border-right-color: var(--fill-color);\n",
              "      border-bottom-color: var(--fill-color);\n",
              "    }\n",
              "    90% {\n",
              "      border-color: transparent;\n",
              "      border-bottom-color: var(--fill-color);\n",
              "    }\n",
              "  }\n",
              "</style>\n",
              "\n",
              "  <script>\n",
              "    async function quickchart(key) {\n",
              "      const quickchartButtonEl =\n",
              "        document.querySelector('#' + key + ' button');\n",
              "      quickchartButtonEl.disabled = true;  // To prevent multiple clicks.\n",
              "      quickchartButtonEl.classList.add('colab-df-spinner');\n",
              "      try {\n",
              "        const charts = await google.colab.kernel.invokeFunction(\n",
              "            'suggestCharts', [key], {});\n",
              "      } catch (error) {\n",
              "        console.error('Error during call to suggestCharts:', error);\n",
              "      }\n",
              "      quickchartButtonEl.classList.remove('colab-df-spinner');\n",
              "      quickchartButtonEl.classList.add('colab-df-quickchart-complete');\n",
              "    }\n",
              "    (() => {\n",
              "      let quickchartButtonEl =\n",
              "        document.querySelector('#df-380ad5fd-3181-4dfe-8359-e3c7a5705ff6 button');\n",
              "      quickchartButtonEl.style.display =\n",
              "        google.colab.kernel.accessAllowed ? 'block' : 'none';\n",
              "    })();\n",
              "  </script>\n",
              "</div>\n",
              "    </div>\n",
              "  </div>\n"
            ]
          },
          "metadata": {},
          "execution_count": 22
        }
      ]
    },
    {
      "cell_type": "code",
      "source": [
        "data2.describe()"
      ],
      "metadata": {
        "colab": {
          "base_uri": "https://localhost:8080/",
          "height": 351
        },
        "id": "Ud_sigIivWZ1",
        "outputId": "ad63adbc-eeef-4dae-ab72-dcd6b988190a"
      },
      "execution_count": 24,
      "outputs": [
        {
          "output_type": "execute_result",
          "data": {
            "text/plain": [
              "        tripduration  start station id  start station latitude  \\\n",
              "count  376590.000000     376590.000000           376590.000000   \n",
              "mean      652.176014       1714.834733               40.734134   \n",
              "std       342.029121       1484.795511                0.031432   \n",
              "min        61.000000         72.000000               40.655400   \n",
              "25%       375.000000        377.000000               40.715348   \n",
              "50%       593.000000        518.000000               40.733143   \n",
              "75%       897.000000       3314.000000               40.754601   \n",
              "max      1439.000000       3790.000000               40.814394   \n",
              "\n",
              "       start station longitude  end station id  end station latitude  \\\n",
              "count            376590.000000   376590.000000         376590.000000   \n",
              "mean                -73.981474     1706.519560             40.734072   \n",
              "std                   0.019727     1483.650831              0.031224   \n",
              "min                 -74.025353       72.000000             40.655400   \n",
              "25%                 -73.995101      373.000000             40.715348   \n",
              "50%                 -73.984517      517.000000             40.733320   \n",
              "75%                 -73.969617     3314.000000             40.754121   \n",
              "max                 -73.907744     3790.000000             40.814394   \n",
              "\n",
              "       end station longitude         bikeid     birth year    gender  \n",
              "count          376590.000000  376590.000000  376590.000000  376590.0  \n",
              "mean              -73.981772   26703.105491    1981.404339       2.0  \n",
              "std                 0.019796    6597.888399      11.948733       0.0  \n",
              "min               -74.025353   14529.000000    1888.000000       2.0  \n",
              "25%               -73.995299   19973.000000    1973.000000       2.0  \n",
              "50%               -73.985162   28397.500000    1985.000000       2.0  \n",
              "75%               -73.970325   32509.000000    1991.000000       2.0  \n",
              "max               -73.907744   38002.000000    2003.000000       2.0  "
            ],
            "text/html": [
              "\n",
              "  <div id=\"df-226913a8-986c-456d-b29e-be0b520b8c7c\" class=\"colab-df-container\">\n",
              "    <div>\n",
              "<style scoped>\n",
              "    .dataframe tbody tr th:only-of-type {\n",
              "        vertical-align: middle;\n",
              "    }\n",
              "\n",
              "    .dataframe tbody tr th {\n",
              "        vertical-align: top;\n",
              "    }\n",
              "\n",
              "    .dataframe thead th {\n",
              "        text-align: right;\n",
              "    }\n",
              "</style>\n",
              "<table border=\"1\" class=\"dataframe\">\n",
              "  <thead>\n",
              "    <tr style=\"text-align: right;\">\n",
              "      <th></th>\n",
              "      <th>tripduration</th>\n",
              "      <th>start station id</th>\n",
              "      <th>start station latitude</th>\n",
              "      <th>start station longitude</th>\n",
              "      <th>end station id</th>\n",
              "      <th>end station latitude</th>\n",
              "      <th>end station longitude</th>\n",
              "      <th>bikeid</th>\n",
              "      <th>birth year</th>\n",
              "      <th>gender</th>\n",
              "    </tr>\n",
              "  </thead>\n",
              "  <tbody>\n",
              "    <tr>\n",
              "      <th>count</th>\n",
              "      <td>376590.000000</td>\n",
              "      <td>376590.000000</td>\n",
              "      <td>376590.000000</td>\n",
              "      <td>376590.000000</td>\n",
              "      <td>376590.000000</td>\n",
              "      <td>376590.000000</td>\n",
              "      <td>376590.000000</td>\n",
              "      <td>376590.000000</td>\n",
              "      <td>376590.000000</td>\n",
              "      <td>376590.0</td>\n",
              "    </tr>\n",
              "    <tr>\n",
              "      <th>mean</th>\n",
              "      <td>652.176014</td>\n",
              "      <td>1714.834733</td>\n",
              "      <td>40.734134</td>\n",
              "      <td>-73.981474</td>\n",
              "      <td>1706.519560</td>\n",
              "      <td>40.734072</td>\n",
              "      <td>-73.981772</td>\n",
              "      <td>26703.105491</td>\n",
              "      <td>1981.404339</td>\n",
              "      <td>2.0</td>\n",
              "    </tr>\n",
              "    <tr>\n",
              "      <th>std</th>\n",
              "      <td>342.029121</td>\n",
              "      <td>1484.795511</td>\n",
              "      <td>0.031432</td>\n",
              "      <td>0.019727</td>\n",
              "      <td>1483.650831</td>\n",
              "      <td>0.031224</td>\n",
              "      <td>0.019796</td>\n",
              "      <td>6597.888399</td>\n",
              "      <td>11.948733</td>\n",
              "      <td>0.0</td>\n",
              "    </tr>\n",
              "    <tr>\n",
              "      <th>min</th>\n",
              "      <td>61.000000</td>\n",
              "      <td>72.000000</td>\n",
              "      <td>40.655400</td>\n",
              "      <td>-74.025353</td>\n",
              "      <td>72.000000</td>\n",
              "      <td>40.655400</td>\n",
              "      <td>-74.025353</td>\n",
              "      <td>14529.000000</td>\n",
              "      <td>1888.000000</td>\n",
              "      <td>2.0</td>\n",
              "    </tr>\n",
              "    <tr>\n",
              "      <th>25%</th>\n",
              "      <td>375.000000</td>\n",
              "      <td>377.000000</td>\n",
              "      <td>40.715348</td>\n",
              "      <td>-73.995101</td>\n",
              "      <td>373.000000</td>\n",
              "      <td>40.715348</td>\n",
              "      <td>-73.995299</td>\n",
              "      <td>19973.000000</td>\n",
              "      <td>1973.000000</td>\n",
              "      <td>2.0</td>\n",
              "    </tr>\n",
              "    <tr>\n",
              "      <th>50%</th>\n",
              "      <td>593.000000</td>\n",
              "      <td>518.000000</td>\n",
              "      <td>40.733143</td>\n",
              "      <td>-73.984517</td>\n",
              "      <td>517.000000</td>\n",
              "      <td>40.733320</td>\n",
              "      <td>-73.985162</td>\n",
              "      <td>28397.500000</td>\n",
              "      <td>1985.000000</td>\n",
              "      <td>2.0</td>\n",
              "    </tr>\n",
              "    <tr>\n",
              "      <th>75%</th>\n",
              "      <td>897.000000</td>\n",
              "      <td>3314.000000</td>\n",
              "      <td>40.754601</td>\n",
              "      <td>-73.969617</td>\n",
              "      <td>3314.000000</td>\n",
              "      <td>40.754121</td>\n",
              "      <td>-73.970325</td>\n",
              "      <td>32509.000000</td>\n",
              "      <td>1991.000000</td>\n",
              "      <td>2.0</td>\n",
              "    </tr>\n",
              "    <tr>\n",
              "      <th>max</th>\n",
              "      <td>1439.000000</td>\n",
              "      <td>3790.000000</td>\n",
              "      <td>40.814394</td>\n",
              "      <td>-73.907744</td>\n",
              "      <td>3790.000000</td>\n",
              "      <td>40.814394</td>\n",
              "      <td>-73.907744</td>\n",
              "      <td>38002.000000</td>\n",
              "      <td>2003.000000</td>\n",
              "      <td>2.0</td>\n",
              "    </tr>\n",
              "  </tbody>\n",
              "</table>\n",
              "</div>\n",
              "    <div class=\"colab-df-buttons\">\n",
              "\n",
              "  <div class=\"colab-df-container\">\n",
              "    <button class=\"colab-df-convert\" onclick=\"convertToInteractive('df-226913a8-986c-456d-b29e-be0b520b8c7c')\"\n",
              "            title=\"Convert this dataframe to an interactive table.\"\n",
              "            style=\"display:none;\">\n",
              "\n",
              "  <svg xmlns=\"http://www.w3.org/2000/svg\" height=\"24px\" viewBox=\"0 -960 960 960\">\n",
              "    <path d=\"M120-120v-720h720v720H120Zm60-500h600v-160H180v160Zm220 220h160v-160H400v160Zm0 220h160v-160H400v160ZM180-400h160v-160H180v160Zm440 0h160v-160H620v160ZM180-180h160v-160H180v160Zm440 0h160v-160H620v160Z\"/>\n",
              "  </svg>\n",
              "    </button>\n",
              "\n",
              "  <style>\n",
              "    .colab-df-container {\n",
              "      display:flex;\n",
              "      gap: 12px;\n",
              "    }\n",
              "\n",
              "    .colab-df-convert {\n",
              "      background-color: #E8F0FE;\n",
              "      border: none;\n",
              "      border-radius: 50%;\n",
              "      cursor: pointer;\n",
              "      display: none;\n",
              "      fill: #1967D2;\n",
              "      height: 32px;\n",
              "      padding: 0 0 0 0;\n",
              "      width: 32px;\n",
              "    }\n",
              "\n",
              "    .colab-df-convert:hover {\n",
              "      background-color: #E2EBFA;\n",
              "      box-shadow: 0px 1px 2px rgba(60, 64, 67, 0.3), 0px 1px 3px 1px rgba(60, 64, 67, 0.15);\n",
              "      fill: #174EA6;\n",
              "    }\n",
              "\n",
              "    .colab-df-buttons div {\n",
              "      margin-bottom: 4px;\n",
              "    }\n",
              "\n",
              "    [theme=dark] .colab-df-convert {\n",
              "      background-color: #3B4455;\n",
              "      fill: #D2E3FC;\n",
              "    }\n",
              "\n",
              "    [theme=dark] .colab-df-convert:hover {\n",
              "      background-color: #434B5C;\n",
              "      box-shadow: 0px 1px 3px 1px rgba(0, 0, 0, 0.15);\n",
              "      filter: drop-shadow(0px 1px 2px rgba(0, 0, 0, 0.3));\n",
              "      fill: #FFFFFF;\n",
              "    }\n",
              "  </style>\n",
              "\n",
              "    <script>\n",
              "      const buttonEl =\n",
              "        document.querySelector('#df-226913a8-986c-456d-b29e-be0b520b8c7c button.colab-df-convert');\n",
              "      buttonEl.style.display =\n",
              "        google.colab.kernel.accessAllowed ? 'block' : 'none';\n",
              "\n",
              "      async function convertToInteractive(key) {\n",
              "        const element = document.querySelector('#df-226913a8-986c-456d-b29e-be0b520b8c7c');\n",
              "        const dataTable =\n",
              "          await google.colab.kernel.invokeFunction('convertToInteractive',\n",
              "                                                    [key], {});\n",
              "        if (!dataTable) return;\n",
              "\n",
              "        const docLinkHtml = 'Like what you see? Visit the ' +\n",
              "          '<a target=\"_blank\" href=https://colab.research.google.com/notebooks/data_table.ipynb>data table notebook</a>'\n",
              "          + ' to learn more about interactive tables.';\n",
              "        element.innerHTML = '';\n",
              "        dataTable['output_type'] = 'display_data';\n",
              "        await google.colab.output.renderOutput(dataTable, element);\n",
              "        const docLink = document.createElement('div');\n",
              "        docLink.innerHTML = docLinkHtml;\n",
              "        element.appendChild(docLink);\n",
              "      }\n",
              "    </script>\n",
              "  </div>\n",
              "\n",
              "\n",
              "<div id=\"df-72113762-9ce6-480a-9bb2-43569be468e4\">\n",
              "  <button class=\"colab-df-quickchart\" onclick=\"quickchart('df-72113762-9ce6-480a-9bb2-43569be468e4')\"\n",
              "            title=\"Suggest charts.\"\n",
              "            style=\"display:none;\">\n",
              "\n",
              "<svg xmlns=\"http://www.w3.org/2000/svg\" height=\"24px\"viewBox=\"0 0 24 24\"\n",
              "     width=\"24px\">\n",
              "    <g>\n",
              "        <path d=\"M19 3H5c-1.1 0-2 .9-2 2v14c0 1.1.9 2 2 2h14c1.1 0 2-.9 2-2V5c0-1.1-.9-2-2-2zM9 17H7v-7h2v7zm4 0h-2V7h2v10zm4 0h-2v-4h2v4z\"/>\n",
              "    </g>\n",
              "</svg>\n",
              "  </button>\n",
              "\n",
              "<style>\n",
              "  .colab-df-quickchart {\n",
              "      --bg-color: #E8F0FE;\n",
              "      --fill-color: #1967D2;\n",
              "      --hover-bg-color: #E2EBFA;\n",
              "      --hover-fill-color: #174EA6;\n",
              "      --disabled-fill-color: #AAA;\n",
              "      --disabled-bg-color: #DDD;\n",
              "  }\n",
              "\n",
              "  [theme=dark] .colab-df-quickchart {\n",
              "      --bg-color: #3B4455;\n",
              "      --fill-color: #D2E3FC;\n",
              "      --hover-bg-color: #434B5C;\n",
              "      --hover-fill-color: #FFFFFF;\n",
              "      --disabled-bg-color: #3B4455;\n",
              "      --disabled-fill-color: #666;\n",
              "  }\n",
              "\n",
              "  .colab-df-quickchart {\n",
              "    background-color: var(--bg-color);\n",
              "    border: none;\n",
              "    border-radius: 50%;\n",
              "    cursor: pointer;\n",
              "    display: none;\n",
              "    fill: var(--fill-color);\n",
              "    height: 32px;\n",
              "    padding: 0;\n",
              "    width: 32px;\n",
              "  }\n",
              "\n",
              "  .colab-df-quickchart:hover {\n",
              "    background-color: var(--hover-bg-color);\n",
              "    box-shadow: 0 1px 2px rgba(60, 64, 67, 0.3), 0 1px 3px 1px rgba(60, 64, 67, 0.15);\n",
              "    fill: var(--button-hover-fill-color);\n",
              "  }\n",
              "\n",
              "  .colab-df-quickchart-complete:disabled,\n",
              "  .colab-df-quickchart-complete:disabled:hover {\n",
              "    background-color: var(--disabled-bg-color);\n",
              "    fill: var(--disabled-fill-color);\n",
              "    box-shadow: none;\n",
              "  }\n",
              "\n",
              "  .colab-df-spinner {\n",
              "    border: 2px solid var(--fill-color);\n",
              "    border-color: transparent;\n",
              "    border-bottom-color: var(--fill-color);\n",
              "    animation:\n",
              "      spin 1s steps(1) infinite;\n",
              "  }\n",
              "\n",
              "  @keyframes spin {\n",
              "    0% {\n",
              "      border-color: transparent;\n",
              "      border-bottom-color: var(--fill-color);\n",
              "      border-left-color: var(--fill-color);\n",
              "    }\n",
              "    20% {\n",
              "      border-color: transparent;\n",
              "      border-left-color: var(--fill-color);\n",
              "      border-top-color: var(--fill-color);\n",
              "    }\n",
              "    30% {\n",
              "      border-color: transparent;\n",
              "      border-left-color: var(--fill-color);\n",
              "      border-top-color: var(--fill-color);\n",
              "      border-right-color: var(--fill-color);\n",
              "    }\n",
              "    40% {\n",
              "      border-color: transparent;\n",
              "      border-right-color: var(--fill-color);\n",
              "      border-top-color: var(--fill-color);\n",
              "    }\n",
              "    60% {\n",
              "      border-color: transparent;\n",
              "      border-right-color: var(--fill-color);\n",
              "    }\n",
              "    80% {\n",
              "      border-color: transparent;\n",
              "      border-right-color: var(--fill-color);\n",
              "      border-bottom-color: var(--fill-color);\n",
              "    }\n",
              "    90% {\n",
              "      border-color: transparent;\n",
              "      border-bottom-color: var(--fill-color);\n",
              "    }\n",
              "  }\n",
              "</style>\n",
              "\n",
              "  <script>\n",
              "    async function quickchart(key) {\n",
              "      const quickchartButtonEl =\n",
              "        document.querySelector('#' + key + ' button');\n",
              "      quickchartButtonEl.disabled = true;  // To prevent multiple clicks.\n",
              "      quickchartButtonEl.classList.add('colab-df-spinner');\n",
              "      try {\n",
              "        const charts = await google.colab.kernel.invokeFunction(\n",
              "            'suggestCharts', [key], {});\n",
              "      } catch (error) {\n",
              "        console.error('Error during call to suggestCharts:', error);\n",
              "      }\n",
              "      quickchartButtonEl.classList.remove('colab-df-spinner');\n",
              "      quickchartButtonEl.classList.add('colab-df-quickchart-complete');\n",
              "    }\n",
              "    (() => {\n",
              "      let quickchartButtonEl =\n",
              "        document.querySelector('#df-72113762-9ce6-480a-9bb2-43569be468e4 button');\n",
              "      quickchartButtonEl.style.display =\n",
              "        google.colab.kernel.accessAllowed ? 'block' : 'none';\n",
              "    })();\n",
              "  </script>\n",
              "</div>\n",
              "    </div>\n",
              "  </div>\n"
            ]
          },
          "metadata": {},
          "execution_count": 24
        }
      ]
    },
    {
      "cell_type": "code",
      "source": [
        "\n",
        "print(\"data1: mean1 > mean2 - std2,  \",[5.882071e+02,652.176014-342.029121\n",
        "               ])\n",
        "print(\"data1: mean1 < mean2 + std2,   \",[5.882071e+02,652.176014+342.029121\n",
        "               ])\n",
        "print(\"data2: mean2 > mean1 - std1,   \",[652.176014,5.882071e+02-3.350298e+02])\n",
        "print(\"data2: mean2 < mean1 + std1,   \",[652.176014,5.882071e+02+3.350298e+02])"
      ],
      "metadata": {
        "colab": {
          "base_uri": "https://localhost:8080/"
        },
        "id": "Q1xkgmNIvI9C",
        "outputId": "bced32b7-38ae-4aa1-9e7c-7e24f52bdca6"
      },
      "execution_count": 35,
      "outputs": [
        {
          "output_type": "stream",
          "name": "stdout",
          "text": [
            "data1: mean1 > mean2 - std2,   [588.2071, 310.14689300000003]\n",
            "data1: mean1 < mean2 + std2,    [588.2071, 994.2051349999999]\n",
            "data2: mean2 > mean1 - std1,    [652.176014, 253.17729999999995]\n",
            "data2: mean2 < mean1 + std1,    [652.176014, 923.2369]\n"
          ]
        }
      ]
    },
    {
      "cell_type": "markdown",
      "source": [
        "Yes, the first condition holds."
      ],
      "metadata": {
        "id": "wC_llSGm9s-c"
      }
    },
    {
      "cell_type": "markdown",
      "source": [
        "\n",
        "To answer the question more formally  test you can use the t-test. You can use the ```ttest_ind`` function in python ```scipy.stats.ttest_ind()``` passing the first sample for a and the other for b (ind stands for independent, i.e. the assumption is that the sample are independent samples)"
      ],
      "metadata": {
        "id": "DaybiE919rsy"
      }
    },
    {
      "cell_type": "code",
      "source": [
        "# get the usage information for the function here or on the webpage of the function\n",
        "stats.ttest_ind?"
      ],
      "metadata": {
        "id": "jmgUz1XH41q9"
      },
      "execution_count": 10,
      "outputs": []
    },
    {
      "cell_type": "code",
      "source": [],
      "metadata": {
        "colab": {
          "base_uri": "https://localhost:8080/"
        },
        "id": "O05IDIooyYNf",
        "outputId": "b32de810-74ee-431f-d364-d1c0cbad5ca7"
      },
      "execution_count": 7,
      "outputs": [
        {
          "output_type": "execute_result",
          "data": {
            "text/plain": [
              "TtestResult(statistic=-100.84403665697792, pvalue=0.0, df=1497930.0)"
            ]
          },
          "metadata": {},
          "execution_count": 7
        }
      ]
    },
    {
      "cell_type": "code",
      "source": [
        "# your code here\n",
        "stats.ttest_ind(data1[\"tripduration\"], data2[\"tripduration\"])"
      ],
      "metadata": {
        "id": "L64xiLnF3vuq",
        "colab": {
          "base_uri": "https://localhost:8080/"
        },
        "outputId": "277850ff-1db9-4e8f-c117-619ce4d4f18a"
      },
      "execution_count": 9,
      "outputs": [
        {
          "output_type": "execute_result",
          "data": {
            "text/plain": [
              "TtestResult(statistic=-100.84403665697792, pvalue=0.0, df=1497930.0)"
            ]
          },
          "metadata": {},
          "execution_count": 9
        }
      ]
    },
    {
      "cell_type": "markdown",
      "source": [
        "H0: The trip duration for men is equal to the trip duration for women.\\\n",
        "HA: The trip duration for men is not equal to the trip duration for women.\\\n",
        " The threshold chosen is p=0.05. Here the pvalue is 0.0. So, we can reject the null Hypothesis"
      ],
      "metadata": {
        "id": "F6IKIXgm0uGR"
      }
    },
    {
      "cell_type": "markdown",
      "source": [
        "interpret the result based on your chosen confidence threshold and on the results of the ```ttest_ind`` function.\n",
        "\n"
      ],
      "metadata": {
        "id": "Zi5cvldc4JTC"
      }
    },
    {
      "cell_type": "markdown",
      "source": [
        "< your conclusions here >\n"
      ],
      "metadata": {
        "id": "EWHoC6yP929C"
      }
    },
    {
      "cell_type": "markdown",
      "source": [
        "# Are the sample coming from the same parent distribution\n",
        "\n",
        "The next test answers the questions: do the samples come from the same generative process (or \"parent function\"). Often we write the hypothesis for this test more simple as \"are the distributions the same\"\n",
        "\n",
        "\n",
        "\n"
      ],
      "metadata": {
        "id": "p3A3h0AX3fyc"
      }
    },
    {
      "cell_type": "markdown",
      "source": [
        "Write the NULL and Alternative hypothesis here:\\\n",
        "H0: The trip duration for men comes from another distribution from the trip duration for women.\\\n",
        "HA: The trip duration for men comes from the same distribution to the trip duration for women."
      ],
      "metadata": {
        "id": "4AdnfZpA-E0Y"
      }
    },
    {
      "cell_type": "markdown",
      "source": [
        "Run the test ```stats.ks_2samp```"
      ],
      "metadata": {
        "id": "Uej9-Fp4-I_M"
      }
    },
    {
      "cell_type": "code",
      "source": [
        "# your code here\n",
        "stats.ks_2samp(data1[\"tripduration\"], data2[\"tripduration\"])"
      ],
      "metadata": {
        "id": "rT58jrwfiWE0",
        "colab": {
          "base_uri": "https://localhost:8080/"
        },
        "outputId": "0cc5fd4e-21a6-4dd9-add6-ee806665121e"
      },
      "execution_count": 15,
      "outputs": [
        {
          "output_type": "execute_result",
          "data": {
            "text/plain": [
              "KstestResult(statistic=0.08422140452629323, pvalue=0.0, statistic_location=525, statistic_sign=1)"
            ]
          },
          "metadata": {},
          "execution_count": 15
        }
      ]
    },
    {
      "cell_type": "markdown",
      "source": [
        "In fact this test is very sensitive to differences in the mean of the sample. To use the test properly one should first normalize the data. That is: subtract the mean and divide by the standard deviation. This is how you would do it (my two clean samples for gender = 1 and gender = 2 are called cbMay19_m and cbMay19_f, yours will be possibly called differently)"
      ],
      "metadata": {
        "id": "8SJCLvi_-OE1"
      }
    },
    {
      "cell_type": "code",
      "source": [
        "normed_f = (cbMay19_f[\"tripduration\"] - cbMay19_f[\"tripduration\"].mean()) / cbMay19_f[\"tripduration\"].std()\n",
        "normed_m = (cbMay19_m[\"tripduration\"] - cbMay19_m[\"tripduration\"].mean()) / cbMay19_m[\"tripduration\"].std()"
      ],
      "metadata": {
        "id": "7M1cvMNi-XNH"
      },
      "execution_count": null,
      "outputs": []
    },
    {
      "cell_type": "markdown",
      "source": [
        "rerun the test after normalizing, did the conclusion change?"
      ],
      "metadata": {
        "id": "AYgiRMrA-7HD"
      }
    },
    {
      "cell_type": "code",
      "source": [
        "# your code here\n",
        "stats.ks_2samp((data1[\"tripduration\"]-np.mean(data1[\"tripduration\"]))/np.std(data1[\"tripduration\"]), (data2[\"tripduration\"]-np.mean(data2[\"tripduration\"]))/np.std(data2[\"tripduration\"]))"
      ],
      "metadata": {
        "id": "9jXluvjE-6mD",
        "colab": {
          "base_uri": "https://localhost:8080/"
        },
        "outputId": "bb126fa1-cb8d-4697-c746-41b43ff859ad"
      },
      "execution_count": 16,
      "outputs": [
        {
          "output_type": "execute_result",
          "data": {
            "text/plain": [
              "KstestResult(statistic=0.022785464212612745, pvalue=1.4148236782790818e-127, statistic_location=-1.275261568111168, statistic_sign=-1)"
            ]
          },
          "metadata": {},
          "execution_count": 16
        }
      ]
    },
    {
      "cell_type": "markdown",
      "source": [
        "Because the pvalue is less than our threshold p=0.05, we can reject the H0. Yes, after the normalizing the statistics change. But still we can reject the Null HP."
      ],
      "metadata": {
        "id": "9yu9zp_d5kW5"
      }
    },
    {
      "cell_type": "markdown",
      "source": [
        "# Extra Credit : do the same for week days only and weekends only"
      ],
      "metadata": {
        "id": "1mi3yn645F7D"
      }
    },
    {
      "cell_type": "markdown",
      "source": [
        "Pandas uses an excellent package to process dates! the datetime package\n",
        "\n",
        "The current date columns are starttime and stoptime. You can convert starttime, which is currently a column containing simple strings, to a python datetime variable as follows\n",
        "\n"
      ],
      "metadata": {
        "id": "ZpQWeL1N5MUW"
      }
    },
    {
      "cell_type": "code",
      "source": [
        "cbMay19[\"starttime\"]"
      ],
      "metadata": {
        "id": "9rOLXJgg5Z9B",
        "colab": {
          "base_uri": "https://localhost:8080/"
        },
        "outputId": "21faf821-b5f4-4804-cd63-4852c61112b8"
      },
      "execution_count": null,
      "outputs": [
        {
          "output_type": "execute_result",
          "data": {
            "text/plain": [
              "0          2019-05-01 00:00:01.9010\n",
              "1          2019-05-01 00:00:03.0210\n",
              "2          2019-05-01 00:00:04.6270\n",
              "3          2019-05-01 00:00:19.3340\n",
              "4          2019-05-01 00:00:22.1840\n",
              "                     ...           \n",
              "1924558    2019-05-31 23:59:45.5760\n",
              "1924559    2019-05-31 23:59:46.4650\n",
              "1924560    2019-05-31 23:59:51.5060\n",
              "1924561    2019-05-31 23:59:52.4170\n",
              "1924562    2019-05-31 23:59:55.5500\n",
              "Name: starttime, Length: 1924563, dtype: object"
            ]
          },
          "metadata": {},
          "execution_count": 14
        }
      ]
    },
    {
      "cell_type": "code",
      "source": [
        "cbMay19[\"tripdate\"] = pd.to_datetime(cbMay19.starttime)\n",
        "cbMay19[\"tripdate\"]"
      ],
      "metadata": {
        "id": "H77q8aL75qSk",
        "colab": {
          "base_uri": "https://localhost:8080/"
        },
        "outputId": "e63b49cf-4c0b-4914-8408-73b5388e3561"
      },
      "execution_count": null,
      "outputs": [
        {
          "output_type": "execute_result",
          "data": {
            "text/plain": [
              "0         2019-05-01 00:00:01.901\n",
              "1         2019-05-01 00:00:03.021\n",
              "2         2019-05-01 00:00:04.627\n",
              "3         2019-05-01 00:00:19.334\n",
              "4         2019-05-01 00:00:22.184\n",
              "                    ...          \n",
              "1924558   2019-05-31 23:59:45.576\n",
              "1924559   2019-05-31 23:59:46.465\n",
              "1924560   2019-05-31 23:59:51.506\n",
              "1924561   2019-05-31 23:59:52.417\n",
              "1924562   2019-05-31 23:59:55.550\n",
              "Name: tripdate, Length: 1924563, dtype: datetime64[ns]"
            ]
          },
          "metadata": {},
          "execution_count": 15
        }
      ]
    },
    {
      "cell_type": "markdown",
      "source": [
        "Once you have a datetime column for the start of the trip you can separate week days and weekends using the condition\n",
        "\n",
        "```cbMay19[\"tripdate\"].dt.weekday < 5```\n",
        "\n",
        "for weekdays and\n",
        "\n",
        "```cbMay19[\"tripdate\"].dt.weekday >= 5```\n",
        "\n",
        "for weekends.\n",
        "\n",
        "With the dataset separate in weekend and weekdays you can ask the same kind of questions: is trip duration characteristically different on weekends than on week days, or, are the gender-based differences you found for the overall sample the same for weekdays and weekends?\n"
      ],
      "metadata": {
        "id": "ZOw-t8z450Gn"
      }
    }
  ]
}